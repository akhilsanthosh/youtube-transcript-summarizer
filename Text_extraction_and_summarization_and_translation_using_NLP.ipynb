{
  "cells": [
    {
      "cell_type": "code",
      "execution_count": null,
      "metadata": {
        "id": "tlpumP3FVaX1"
      },
      "outputs": [],
      "source": [
        "!pip install -q transformers"
      ]
    },
    {
      "cell_type": "code",
      "execution_count": null,
      "metadata": {
        "colab": {
          "base_uri": "https://localhost:8080/"
        },
        "id": "MerNIV9hVeCy",
        "outputId": "87da04c8-c651-49b2-d49c-781af34c789a"
      },
      "outputs": [
        {
          "name": "stdout",
          "output_type": "stream",
          "text": [
            "Collecting googletrans==3.1.0a0\n",
            "  Downloading googletrans-3.1.0a0.tar.gz (19 kB)\n",
            "  Preparing metadata (setup.py) ... \u001b[?25l\u001b[?25hdone\n",
            "Collecting httpx==0.13.3 (from googletrans==3.1.0a0)\n",
            "  Downloading httpx-0.13.3-py3-none-any.whl (55 kB)\n",
            "\u001b[2K     \u001b[90m━━━━━━━━━━━━━━━━━━━━━━━━━━━━━━━━━━━━━━━━\u001b[0m \u001b[32m55.1/55.1 kB\u001b[0m \u001b[31m7.4 MB/s\u001b[0m eta \u001b[36m0:00:00\u001b[0m\n",
            "\u001b[?25hRequirement already satisfied: certifi in /usr/local/lib/python3.10/dist-packages (from httpx==0.13.3->googletrans==3.1.0a0) (2024.6.2)\n",
            "Collecting hstspreload (from httpx==0.13.3->googletrans==3.1.0a0)\n",
            "  Downloading hstspreload-2024.7.1-py3-none-any.whl (1.2 MB)\n",
            "\u001b[2K     \u001b[90m━━━━━━━━━━━━━━━━━━━━━━━━━━━━━━━━━━━━━━━━\u001b[0m \u001b[32m1.2/1.2 MB\u001b[0m \u001b[31m21.3 MB/s\u001b[0m eta \u001b[36m0:00:00\u001b[0m\n",
            "\u001b[?25hRequirement already satisfied: sniffio in /usr/local/lib/python3.10/dist-packages (from httpx==0.13.3->googletrans==3.1.0a0) (1.3.1)\n",
            "Collecting chardet==3.* (from httpx==0.13.3->googletrans==3.1.0a0)\n",
            "  Downloading chardet-3.0.4-py2.py3-none-any.whl (133 kB)\n",
            "\u001b[2K     \u001b[90m━━━━━━━━━━━━━━━━━━━━━━━━━━━━━━━━━━━━━━━━\u001b[0m \u001b[32m133.4/133.4 kB\u001b[0m \u001b[31m13.5 MB/s\u001b[0m eta \u001b[36m0:00:00\u001b[0m\n",
            "\u001b[?25hCollecting idna==2.* (from httpx==0.13.3->googletrans==3.1.0a0)\n",
            "  Downloading idna-2.10-py2.py3-none-any.whl (58 kB)\n",
            "\u001b[2K     \u001b[90m━━━━━━━━━━━━━━━━━━━━━━━━━━━━━━━━━━━━━━━━\u001b[0m \u001b[32m58.8/58.8 kB\u001b[0m \u001b[31m3.2 MB/s\u001b[0m eta \u001b[36m0:00:00\u001b[0m\n",
            "\u001b[?25hCollecting rfc3986<2,>=1.3 (from httpx==0.13.3->googletrans==3.1.0a0)\n",
            "  Downloading rfc3986-1.5.0-py2.py3-none-any.whl (31 kB)\n",
            "Collecting httpcore==0.9.* (from httpx==0.13.3->googletrans==3.1.0a0)\n",
            "  Downloading httpcore-0.9.1-py3-none-any.whl (42 kB)\n",
            "\u001b[2K     \u001b[90m━━━━━━━━━━━━━━━━━━━━━━━━━━━━━━━━━━━━━━━━\u001b[0m \u001b[32m42.6/42.6 kB\u001b[0m \u001b[31m5.8 MB/s\u001b[0m eta \u001b[36m0:00:00\u001b[0m\n",
            "\u001b[?25hCollecting h11<0.10,>=0.8 (from httpcore==0.9.*->httpx==0.13.3->googletrans==3.1.0a0)\n",
            "  Downloading h11-0.9.0-py2.py3-none-any.whl (53 kB)\n",
            "\u001b[2K     \u001b[90m━━━━━━━━━━━━━━━━━━━━━━━━━━━━━━━━━━━━━━━━\u001b[0m \u001b[32m53.6/53.6 kB\u001b[0m \u001b[31m7.0 MB/s\u001b[0m eta \u001b[36m0:00:00\u001b[0m\n",
            "\u001b[?25hCollecting h2==3.* (from httpcore==0.9.*->httpx==0.13.3->googletrans==3.1.0a0)\n",
            "  Downloading h2-3.2.0-py2.py3-none-any.whl (65 kB)\n",
            "\u001b[2K     \u001b[90m━━━━━━━━━━━━━━━━━━━━━━━━━━━━━━━━━━━━━━━━\u001b[0m \u001b[32m65.0/65.0 kB\u001b[0m \u001b[31m6.2 MB/s\u001b[0m eta \u001b[36m0:00:00\u001b[0m\n",
            "\u001b[?25hCollecting hyperframe<6,>=5.2.0 (from h2==3.*->httpcore==0.9.*->httpx==0.13.3->googletrans==3.1.0a0)\n",
            "  Downloading hyperframe-5.2.0-py2.py3-none-any.whl (12 kB)\n",
            "Collecting hpack<4,>=3.0 (from h2==3.*->httpcore==0.9.*->httpx==0.13.3->googletrans==3.1.0a0)\n",
            "  Downloading hpack-3.0.0-py2.py3-none-any.whl (38 kB)\n",
            "Building wheels for collected packages: googletrans\n",
            "  Building wheel for googletrans (setup.py) ... \u001b[?25l\u001b[?25hdone\n",
            "  Created wheel for googletrans: filename=googletrans-3.1.0a0-py3-none-any.whl size=16353 sha256=edfdf0ce398fb181db1bc4a95c1dc7910af2c03608af2e7544a4fe6c9ce4cc22\n",
            "  Stored in directory: /root/.cache/pip/wheels/50/5d/3c/8477d0af4ca2b8b1308812c09f1930863caeebc762fe265a95\n",
            "Successfully built googletrans\n",
            "Installing collected packages: rfc3986, hyperframe, hpack, h11, chardet, idna, hstspreload, h2, httpcore, httpx, googletrans\n",
            "  Attempting uninstall: chardet\n",
            "    Found existing installation: chardet 5.2.0\n",
            "    Uninstalling chardet-5.2.0:\n",
            "      Successfully uninstalled chardet-5.2.0\n",
            "  Attempting uninstall: idna\n",
            "    Found existing installation: idna 3.7\n",
            "    Uninstalling idna-3.7:\n",
            "      Successfully uninstalled idna-3.7\n",
            "Successfully installed chardet-3.0.4 googletrans-3.1.0a0 h11-0.9.0 h2-3.2.0 hpack-3.0.0 hstspreload-2024.7.1 httpcore-0.9.1 httpx-0.13.3 hyperframe-5.2.0 idna-2.10 rfc3986-1.5.0\n"
          ]
        }
      ],
      "source": [
        "!pip install -q youtube_transcript_api\n",
        "!pip install --upgrade googletrans==3.1.0a0"
      ]
    },
    {
      "cell_type": "code",
      "execution_count": null,
      "metadata": {
        "colab": {
          "background_save": true
        },
        "id": "S4ppPcuNVWJs"
      },
      "outputs": [],
      "source": [
        "from transformers import pipeline\n",
        "from youtube_transcript_api import YouTubeTranscriptApi\n",
        "from googletrans import Translator\n"
      ]
    },
    {
      "cell_type": "code",
      "execution_count": null,
      "metadata": {
        "id": "nadgLmS-XGCN"
      },
      "outputs": [],
      "source": [
        "youtube_video = \"https://www.youtube.com/watch?v=52IFAhVeF9E\""
      ]
    },
    {
      "cell_type": "code",
      "execution_count": null,
      "metadata": {
        "id": "MugczqjFXLtr"
      },
      "outputs": [],
      "source": [
        "video_id = youtube_video.split(\"=\")[1]"
      ]
    },
    {
      "cell_type": "code",
      "execution_count": null,
      "metadata": {
        "colab": {
          "base_uri": "https://localhost:8080/",
          "height": 36
        },
        "id": "NDQTbtiqekvX",
        "outputId": "922e36dd-e86c-4fdf-a20a-14bc6f0c8fc7"
      },
      "outputs": [
        {
          "data": {
            "application/vnd.google.colaboratory.intrinsic+json": {
              "type": "string"
            },
            "text/plain": [
              "'52IFAhVeF9E'"
            ]
          },
          "execution_count": 6,
          "metadata": {},
          "output_type": "execute_result"
        }
      ],
      "source": [
        "video_id"
      ]
    },
    {
      "cell_type": "code",
      "execution_count": null,
      "metadata": {
        "colab": {
          "base_uri": "https://localhost:8080/",
          "height": 321
        },
        "id": "KLQNhfZBYWVe",
        "outputId": "d4257ca2-5c61-4b11-bb36-b891b3e34efd"
      },
      "outputs": [
        {
          "data": {
            "image/jpeg": "[encoded data removed]",
            "text/html": [
              "\n",
              "        <iframe\n",
              "            width=\"400\"\n",
              "            height=\"300\"\n",
              "            src=\"https://www.youtube.com/embed/52IFAhVeF9E\"\n",
              "            frameborder=\"0\"\n",
              "            allowfullscreen\n",
              "            \n",
              "        ></iframe>\n",
              "        "
            ],
            "text/plain": [
              "<IPython.lib.display.YouTubeVideo at 0x7cbc1c633a30>"
            ]
          },
          "execution_count": 7,
          "metadata": {},
          "output_type": "execute_result"
        }
      ],
      "source": [
        "from IPython.display import YouTubeVideo\n",
        "YouTubeVideo(video_id)"
      ]
    },
    {
      "cell_type": "code",
      "execution_count": null,
      "metadata": {
        "id": "_sxrnhDVXXhR"
      },
      "outputs": [],
      "source": [
        "YouTubeTranscriptApi.get_transcript(video_id)\n",
        "transcript = YouTubeTranscriptApi.get_transcript(video_id)\n"
      ]
    },
    {
      "cell_type": "code",
      "execution_count": null,
      "metadata": {
        "colab": {
          "base_uri": "https://localhost:8080/"
        },
        "id": "OtepAI30e7gp",
        "outputId": "b104a30c-f646-4804-d126-92a2705ffe3f"
      },
      "outputs": [
        {
          "data": {
            "text/plain": [
              "[{'text': '[Music]', 'start': 0.0, 'duration': 2.94},\n",
              " {'text': '[Applause]', 'start': 2.97, 'duration': 3.079},\n",
              " {'text': 'hello everyone terrific Tuesday to you',\n",
              "  'start': 11.639,\n",
              "  'duration': 4.521},\n",
              " {'text': \"welcome back to CNN 10 I'm your host Koy\",\n",
              "  'start': 13.799,\n",
              "  'duration': 4.4},\n",
              " {'text': \"wire we've got a lot to get to not a lot\",\n",
              "  'start': 16.16,\n",
              "  'duration': 3.76}]"
            ]
          },
          "execution_count": 9,
          "metadata": {},
          "output_type": "execute_result"
        }
      ],
      "source": [
        "transcript[0:5]"
      ]
    },
    {
      "cell_type": "code",
      "execution_count": null,
      "metadata": {
        "colab": {
          "base_uri": "https://localhost:8080/"
        },
        "id": "yOZD8yvoVZWb",
        "outputId": "a4d176c7-422e-4d5d-fd3f-d877f09f977f"
      },
      "outputs": [
        {
          "name": "stdout",
          "output_type": "stream",
          "text": [
            " [Music] [Applause] hello everyone terrific Tuesday to you welcome back to CNN 10 I'm your host Koy wire we've got a lot to get to not a lot of time to do it so let's get right to it we start today talking about the current housing market in the United States the dream of buying a home in America is becoming more expensive High mortgage rates Rising home pric prices in low home Inventory are pushing home ownership further Out Of Reach for firsttime buyers a new bank rate analysis says Americans wanting to buy a medium-priced home need to make at least $110,000 a year that's almost a 50% increase in the last four years this changes the calculation for potential home buyers who are torn between buying or renting a home here's redfin.com Chief Economist darl Fairweather with more right now it is more affordable to rent than it is to pay for a mortgage and historically that hasn't been true but if the mortgage payment that you would have to pay is less than 30% of your monthly income then that means that you can afford that mortgage pretty comfortably how long are you going to stay in the home if it's for more than 5 years there is a good chance that you will build enough equity such that when you go to sell your home you will make a return on your investment but if you sell too soon you might end up losing money so it's a risk and a reward we're expecting this next year to be a bit better for buyers than it was last year that's because mortgage rates have started to fall and also more listings of homes are coming on the market which means there are more options for buyers we are forecasting a slight correction in prices this year down 1% but it's just not enough to really make Make It or Break It for a home buyer it's probably going to keep getting less affordable unfortunately there's a trade-off that a lot of young people have where the places where they can earn the most money are the places that have the most expensive housing so I think it's completely valid to say like I want to live in New York City for example and I'm going to have access to all these jobs that are going to improve my career prospects and then one day when I am more established in my career I'm going to say move to a suburb where it's more affordable and I'm going to be a homeowner then focus on your entire life and not just like re reaching this one goal that isn't as attainable as it used to be Pop Quiz Hot Shot inside what European country would you find Vatican City the smallest independent state in the world England France Germany or Italy located inside Italy Vatican City is officially the smallest country in the world and roughly the size of 82 football [Music] fields move over Pisa there's another Leaning Tower in Italy built in the 12th century the garisenda tower in bolognia Italy started tilting just two centuries later it now leans at a 4° angle slightly more than the Tower of Pisa currently [Music] tilts in 2023 scientists concluded the garisenda was at high risk of collapsing and authori temporarily closed off the streets around it the city plans to use the same equipment used to save the Tower of Pisa for this $2 million multi-year restoration project that's one Tower I would not want to get caught taking a selfie under now this next story is a bizarre one that could have broader consequences there's an unusual phenomenon happening with some fish off the coast of Florida that'll make your head spin CNN's Bill Weir has more started diving when I was eight years old with my mom so I've been in the water for a very long time Greg fenworth has seen a lot in his life spent underwater around the Florida keys but he'd never seen anything like this I noticed the fish were spinning and so I started taking video of that that I really had no idea what I was looking at since last fall he's seen stingrays moving upside down Goliath groupers flailing on their sides and do dozens of other species swimming in tortured flailing Loops well I mean i' I've said that you know it's like I'm in the middle of a disaster movie and I'm that guy yelling from you know the Mountaintop trying to get people to pay attention state fish and wildlife officials and Florida's Bone Fish and Tarpon trust have logged nearly 200 incidents with over 30 species acting this way mostly in the lower Keys but as far north as Miami yeah this is crazy I I I was out on a six-hour charter I had had two people on the boat and we were down off a ligman VY bank and we happened to see a fish floundering on the flats and then so we got close to him we wanted to see if there was a problem and we could obviously tell that he was in distress it turned out to be a sawfish a critically endangered species that might lose four or five mature adults a year but in just a few months at least 27 have beached themselves or died after intense episodes of what Anglers are calling the spins so typically when we think of fish acting strangely or dying we either think of low oxygen conditions in the water or red tide and so we saw neither at the water school at Florida gulf course University my Parson team is part of a Statewide effort to solve the mystery of the spinning fish and while tests for most toxins have turned up empty the most promising suspect is found living off seaweed at the bottom a tiny Critter named gambir discus this is the highest we've seen of the Gambier cells in the keys um we don't know if it's the main cause the Single Cell algae can produce various neurotoxins and is showing up at record high levels but it's just one more stressor on marine life already reeling from pollution over fishing and off the-charts ocean heat waves brought by climate change so there's uh concern and curiosity I guess on could the hot hot temperatures in the summer cause some changes that maybe led to the fish uh Behavior now and we just don't really have all the pieces together to try to link one to the other they really have no idea what is happening I mean there is no concrete conclusive proof of what is happening yet and that is still to be determined which is quite terrifying it is scary isn't it it is because if it continues it's going to be the end of this ecosystem as we know it off the charts ocean temperatures are of course just one of the massive stressors on marine life down here these days there was a three-year study recently in which 100% of the bone fish that were tested in the keys turned up at least seven different Pharmaceuticals from opioids to anti-depressants and so this Behavior has not been seen before but it is sort of an attack from a thousand different angles for the creatures living down here and may be a warning for the rest of [Applause] us today's story getting a 10 out of 10 is positively Pome who's ready to potty this special dog just turned two years old and his grateful Police Department threw him an awesome birthday bash Jimmy has been a comfort dog for the Las Vegas PD for a year spreading love and joy to the department in such a short amount of time though he's traveled to hundreds of cities comforting people who face traumatic events good boy Jimmy enjoyed this celebration with cool hats colorful balloons and even his own cake all right Superstars we want to throw a party of appreciation for the best dog on viewers on the planet and that is you shout out today to Wasa junor and Senior High School in Wasa Minnesota rise up and we're also showing some love today to the fine folks up in Philadelphia Pennsylvania at Penn treaty school thank you for subscribing to our cnn1 YouTube channel you rock see you right back here tomorrow and thanks for joining us I'm Coy wire and we are CN and [Music] [Music] 10 [Music] [Music]\n",
            "7715\n"
          ]
        }
      ],
      "source": [
        "\n",
        "result = \"\"\n",
        "for i in transcript:\n",
        "    result += ' ' + i['text']\n",
        "print(result)\n",
        "print(len(result))"
      ]
    },
    {
      "cell_type": "code",
      "execution_count": null,
      "metadata": {
        "colab": {
          "base_uri": "https://localhost:8080/",
          "height": 318,
          "referenced_widgets": [
            "1034a311cc7d4a628801b98608f5cb82",
            "50c4a432190c43588d3ac403823be383",
            "bfcd0d2ac6cc4d57a427b0da5fb61085",
            "f910b47f7dd84810b5e93d210330896a",
            "61917decbb40451399062daacae22ad8",
            "fc6bde7c00824093bce658541c68a0ce",
            "e999efff5d5a41829112801391f66607",
            "2162343fc98a4a09b8110d8eadfadf69",
            "b5c53b1aaf644db78958701381e82932",
            "dc99f6c015a54504aa9e303bdaf73000",
            "68454bc5db0d417d9c2678a6cbe54406",
            "d830261edca04ee299906e050f013412",
            "76e70e11c56d4b448ec66f9ffbf72545",
            "d450cb9505614a13b3d511b5667eb36d",
            "665ec13b47754e9e9bc1a3ea578695d1",
            "6c41b7d0a3504abe969ce37cac890a78",
            "f2400ff0a2ac491393ae76b71d7eaba4",
            "b0cbf480b1b5446eb8be50f24e103dd4",
            "158c7fc105a041dfb37b348abe7602ef",
            "1c7f8d1555df4a6da5bbdf9767514544",
            "d4b18a0aac164c8399b284d9e1d9f3e9",
            "e8c4eca5ec3e4a8e97d0b3094b2e566c",
            "083144f28efb4ea48c00557ec8d28794",
            "e22cfefdc1a74a01a7ec780c90def508",
            "01f85157c5e942e2bcca30e79510f00e",
            "d76a2d89405740cfb95b1e6f05328c27",
            "fb6ef848602c4c3488308aa943cc4038",
            "c9f919b79c344061842a69f8820cf08a",
            "a61f0797aa62456d8a01818a2437ffbe",
            "ddf90d1840d046d3a076b81c0fdddcbc",
            "82032b49f6404f56ac784d74fd152164",
            "dcc78874ff4447abbc570cdacecc72ab",
            "edda5cf752f144a8bec8f0aa66be62d0",
            "f117e843a2354265a2cd29e3985fa5fd",
            "3c8f230cb1e54593b63e9e289f57bbfe",
            "fcdb848b2ba843b2b4403906322c134b",
            "4d90133d08bd46598013a02b198070ce",
            "631a00ee581a44b5bb0a5989e78974fd",
            "a3565ea5c70c4ab5aa8c786e27e18448",
            "9438ef8070fc4ffcbf4a0cdf11fbb097",
            "325a763d573e40cfb68474f4924ce7b0",
            "30e7062bba484113b72e5c9e7cfe40bf",
            "27f2beca89744a39a2bf88a03b870ff4",
            "860cde385cc74741a93ff1cdaef317a8",
            "058849d1dc2d4816b665f6201f4070be",
            "6af64061d3bf4200908637c9c43190d7",
            "5db4ca979d0844bcbda2dab5be331db2",
            "be6bbad68b454ee084f88de5d786b482",
            "0e7741cba3954ddea471d87fd860ae72",
            "01d78c07144b4927878dc321bda5bfeb",
            "695eb21d81124894ad1092c068f65fc2",
            "dda48b54d33f44a7a81b38ef44068ba6",
            "d964a8fb1e9d49969fa67dde29f26eb5",
            "3a6d9e2213a44feaaa0be9a37ca0d7bd",
            "fa4d44fd3d914ff29232ffc84ea178f9",
            "19a888f9d8414e639773893418eab3cb",
            "4fa4588baabc449a95492bc202add9b7",
            "a8472cf240c54ec89829256e2a979e26",
            "2e14be406c674bd4a7ffe228b64a96c6",
            "d15b97776f504a138a0e5bb015120ec2",
            "a41d458a011f4128ba4d8e5543d6c9e8",
            "bd5e39b0f98c42df9ebd6895850d46bf",
            "b6161606230f48bb9ee828d42f2529ce",
            "d156f539e8fc42bf8c1a055124524a42",
            "d639a64ff8834caeba6df880be1fa96d",
            "e45405e3e42746eab1aed5c2eef54c10"
          ]
        },
        "id": "WwzF8ncWYbu7",
        "outputId": "36b2a23e-4749-408f-8ee1-da2762fa8370"
      },
      "outputs": [
        {
          "name": "stderr",
          "output_type": "stream",
          "text": [
            "/usr/local/lib/python3.10/dist-packages/huggingface_hub/utils/_token.py:88: UserWarning: \n",
            "The secret `HF_TOKEN` does not exist in your Colab secrets.\n",
            "To authenticate with the Hugging Face Hub, create a token in your settings tab (https://huggingface.co/settings/tokens), set it as secret in your Google Colab and restart your session.\n",
            "You will be able to reuse this secret in all of your notebooks.\n",
            "Please note that authentication is recommended but still optional to access public models or datasets.\n",
            "  warnings.warn(\n"
          ]
        },
        {
          "data": {
            "application/vnd.jupyter.widget-view+json": {
              "model_id": "1034a311cc7d4a628801b98608f5cb82",
              "version_major": 2,
              "version_minor": 0
            },
            "text/plain": [
              "config.json:   0%|          | 0.00/1.58k [00:00<?, ?B/s]"
            ]
          },
          "metadata": {},
          "output_type": "display_data"
        },
        {
          "data": {
            "application/vnd.jupyter.widget-view+json": {
              "model_id": "d830261edca04ee299906e050f013412",
              "version_major": 2,
              "version_minor": 0
            },
            "text/plain": [
              "model.safetensors:   0%|          | 0.00/1.63G [00:00<?, ?B/s]"
            ]
          },
          "metadata": {},
          "output_type": "display_data"
        },
        {
          "data": {
            "application/vnd.jupyter.widget-view+json": {
              "model_id": "083144f28efb4ea48c00557ec8d28794",
              "version_major": 2,
              "version_minor": 0
            },
            "text/plain": [
              "generation_config.json:   0%|          | 0.00/363 [00:00<?, ?B/s]"
            ]
          },
          "metadata": {},
          "output_type": "display_data"
        },
        {
          "data": {
            "application/vnd.jupyter.widget-view+json": {
              "model_id": "f117e843a2354265a2cd29e3985fa5fd",
              "version_major": 2,
              "version_minor": 0
            },
            "text/plain": [
              "vocab.json:   0%|          | 0.00/899k [00:00<?, ?B/s]"
            ]
          },
          "metadata": {},
          "output_type": "display_data"
        },
        {
          "data": {
            "application/vnd.jupyter.widget-view+json": {
              "model_id": "058849d1dc2d4816b665f6201f4070be",
              "version_major": 2,
              "version_minor": 0
            },
            "text/plain": [
              "merges.txt:   0%|          | 0.00/456k [00:00<?, ?B/s]"
            ]
          },
          "metadata": {},
          "output_type": "display_data"
        },
        {
          "data": {
            "application/vnd.jupyter.widget-view+json": {
              "model_id": "19a888f9d8414e639773893418eab3cb",
              "version_major": 2,
              "version_minor": 0
            },
            "text/plain": [
              "tokenizer.json:   0%|          | 0.00/1.36M [00:00<?, ?B/s]"
            ]
          },
          "metadata": {},
          "output_type": "display_data"
        }
      ],
      "source": [
        "summarizer = pipeline(\"summarization\", model=\"facebook/bart-large-cnn\", tokenizer=\"facebook/bart-large-cnn\")"
      ]
    },
    {
      "cell_type": "code",
      "execution_count": null,
      "metadata": {
        "colab": {
          "base_uri": "https://localhost:8080/"
        },
        "id": "mCz2lRhAV-G4",
        "outputId": "5c18890a-c240-49d9-84e4-e105f905e4fe"
      },
      "outputs": [
        {
          "name": "stdout",
          "output_type": "stream",
          "text": [
            "input text \n",
            " [Music] [Applause] hello everyone terrific Tuesday to you welcome back to CNN 10 I'm your host Koy wire we've got a lot to get to not a lot of time to do it so let's get right to it we start today talking about the current housing market in the United States the dream of buying a home in America is becoming more expensive High mortgage rates Rising home pric prices in low home Inventory are pushing home ownership further Out Of Reach for firsttime buyers a new bank rate analysis says Americans wanting to buy a medium-priced home need to make at least $110,000 a year that's almost a 50% increase in the last four years this changes the calculation for potential home buyers who are torn between buying or renting a home here's redfin.com Chief Economist darl Fairweather with more right now it is more affordable to rent than it is to pay for a mortgage and historically that hasn't been true but if the mortgage payment that you would have to pay is less than 30% of your monthly income then \n",
            "Summarized text\n",
            "High mortgage rates are pushing home ownership further Out Of Reach for firsttime buyers. Americans wanting to buy a medium-priced home need to make at least $110,000 a year. Right now it is more affordable to rent than it is to pay for a mortgage.\n",
            "input text \n",
            "that means that you can afford that mortgage pretty comfortably how long are you going to stay in the home if it's for more than 5 years there is a good chance that you will build enough equity such that when you go to sell your home you will make a return on your investment but if you sell too soon you might end up losing money so it's a risk and a reward we're expecting this next year to be a bit better for buyers than it was last year that's because mortgage rates have started to fall and also more listings of homes are coming on the market which means there are more options for buyers we are forecasting a slight correction in prices this year down 1% but it's just not enough to really make Make It or Break It for a home buyer it's probably going to keep getting less affordable unfortunately there's a trade-off that a lot of young people have where the places where they can earn the most money are the places that have the most expensive housing so I think it's completely valid to sa\n",
            "Summarized text\n",
            "Mortgage rates have started to fall and also more listings of homes are coming on the market which means there are more options for buyers. We are forecasting a slight correction in prices this year down 1% but it's just not enough to really make Make It or Break It for a home buyer it's probably going to keep getting less affordable.\n",
            "input text \n",
            "y like I want to live in New York City for example and I'm going to have access to all these jobs that are going to improve my career prospects and then one day when I am more established in my career I'm going to say move to a suburb where it's more affordable and I'm going to be a homeowner then focus on your entire life and not just like re reaching this one goal that isn't as attainable as it used to be Pop Quiz Hot Shot inside what European country would you find Vatican City the smallest independent state in the world England France Germany or Italy located inside Italy Vatican City is officially the smallest country in the world and roughly the size of 82 football [Music] fields move over Pisa there's another Leaning Tower in Italy built in the 12th century the garisenda tower in bolognia Italy started tilting just two centuries later it now leans at a 4° angle slightly more than the Tower of Pisa currently [Music] tilts in 2023 scientists concluded the garisenda was at high ris\n",
            "Summarized text\n",
            "Vatican City is officially the smallest country in the world and roughly the size of 82 football [Music] fields move over Pisa there's another Leaning Tower in Italy built in the 12th century the garisenda tower in bolognia Italy started tilting just two centuries later it now leans at a 4° angle slightly more than the Tower of Pisa currently.\n",
            "input text \n",
            "k of collapsing and authori temporarily closed off the streets around it the city plans to use the same equipment used to save the Tower of Pisa for this $2 million multi-year restoration project that's one Tower I would not want to get caught taking a selfie under now this next story is a bizarre one that could have broader consequences there's an unusual phenomenon happening with some fish off the coast of Florida that'll make your head spin CNN's Bill Weir has more started diving when I was eight years old with my mom so I've been in the water for a very long time Greg fenworth has seen a lot in his life spent underwater around the Florida keys but he'd never seen anything like this I noticed the fish were spinning and so I started taking video of that that I really had no idea what I was looking at since last fall he's seen stingrays moving upside down Goliath groupers flailing on their sides and do dozens of other species swimming in tortured flailing Loops well I mean i' I've sai\n",
            "Summarized text\n",
            "The Tower of Pisa is set to undergo a multi-year restoration project. A fish phenomenon off the coast of Florida is making your head spin. The city of New York plans to use the same equipment used to save the Tower of. Pisa for this $2 million restoration project that's one Tower I would not want to get caught taking a selfie under.\n",
            "input text \n",
            "d that you know it's like I'm in the middle of a disaster movie and I'm that guy yelling from you know the Mountaintop trying to get people to pay attention state fish and wildlife officials and Florida's Bone Fish and Tarpon trust have logged nearly 200 incidents with over 30 species acting this way mostly in the lower Keys but as far north as Miami yeah this is crazy I I I was out on a six-hour charter I had had two people on the boat and we were down off a ligman VY bank and we happened to see a fish floundering on the flats and then so we got close to him we wanted to see if there was a problem and we could obviously tell that he was in distress it turned out to be a sawfish a critically endangered species that might lose four or five mature adults a year but in just a few months at least 27 have beached themselves or died after intense episodes of what Anglers are calling the spins so typically when we think of fish acting strangely or dying we either think of low oxygen condition\n",
            "Summarized text\n",
            "State fish and wildlife officials and Florida's Bone Fish and Tarpon trust have logged nearly 200 incidents with over 30 species acting this way. In just a few months at least 27 have beached themselves or died after intense episodes of what Anglers are calling the spins. \"It's like I'm in the middle of a disaster movie and I'm that guy yelling from you know the Mountaintop trying to get people to pay attention\"\n",
            "input text \n",
            "s in the water or red tide and so we saw neither at the water school at Florida gulf course University my Parson team is part of a Statewide effort to solve the mystery of the spinning fish and while tests for most toxins have turned up empty the most promising suspect is found living off seaweed at the bottom a tiny Critter named gambir discus this is the highest we've seen of the Gambier cells in the keys um we don't know if it's the main cause the Single Cell algae can produce various neurotoxins and is showing up at record high levels but it's just one more stressor on marine life already reeling from pollution over fishing and off the-charts ocean heat waves brought by climate change so there's uh concern and curiosity I guess on could the hot hot temperatures in the summer cause some changes that maybe led to the fish uh Behavior now and we just don't really have all the pieces together to try to link one to the other they really have no idea what is happening I mean there is no \n",
            "Summarized text\n",
            "My Parson team is part of a Statewide effort to solve the mystery of the spinning fish. While tests for most toxins have turned up empty the most promising suspect is found living off seaweed at the bottom a tiny Critter named gambir discus. The Single Cell algae can produce various neurotoxins and is showing up at record high levels.\n",
            "input text \n",
            "concrete conclusive proof of what is happening yet and that is still to be determined which is quite terrifying it is scary isn't it it is because if it continues it's going to be the end of this ecosystem as we know it off the charts ocean temperatures are of course just one of the massive stressors on marine life down here these days there was a three-year study recently in which 100% of the bone fish that were tested in the keys turned up at least seven different Pharmaceuticals from opioids to anti-depressants and so this Behavior has not been seen before but it is sort of an attack from a thousand different angles for the creatures living down here and may be a warning for the rest of [Applause] us today's story getting a 10 out of 10 is positively Pome who's ready to potty this special dog just turned two years old and his grateful Police Department threw him an awesome birthday bash Jimmy has been a comfort dog for the Las Vegas PD for a year spreading love and joy to the depart\n",
            "Summarized text\n",
            "100% of the bone fish that were tested in the keys turned up at least seven different Pharmaceuticals from opioids to anti-depressants. This Behavior has not been seen before but it is sort of an attack from a thousand different angles for the creatures living down here.\n",
            "input text \n",
            "ment in such a short amount of time though he's traveled to hundreds of cities comforting people who face traumatic events good boy Jimmy enjoyed this celebration with cool hats colorful balloons and even his own cake all right Superstars we want to throw a party of appreciation for the best dog on viewers on the planet and that is you shout out today to Wasa junor and Senior High School in Wasa Minnesota rise up and we're also showing some love today to the fine folks up in Philadelphia Pennsylvania at Penn treaty school thank you for subscribing to our cnn1 YouTube channel you rock see you right back here tomorrow and thanks for joining us I'm Coy wire and we are CN and [Music] [Music] 10 [Music] [Music]\n",
            "Summarized text\n",
            "Jimmy has traveled to hundreds of cities comforting people who face traumatic events good boy Jimmy enjoyed this celebration with cool hats colorful balloons and even his own cake all right Superstars we want to throw a party of appreciation for the best dog on viewers on the planet and that is you shout out today to Wasa junor and Senior High School in Wasa Minnesota rise up.\n"
          ]
        }
      ],
      "source": [
        "num_iters = int(len(result)/1000)\n",
        "summarized_text = []\n",
        "for i in range(0, num_iters + 1):\n",
        "  start = 0\n",
        "  start = i * 1000\n",
        "  end = (i + 1) * 1000\n",
        "  print(\"input text \\n\" + result[start:end])\n",
        "  out = summarizer(result[start:end])\n",
        "  out = out[0]\n",
        "  out = out['summary_text']\n",
        "  print(\"Summarized text\\n\"+out)\n",
        "  summarized_text.append(out)\n",
        "\n",
        "#print(summarized_text)"
      ]
    },
    {
      "cell_type": "code",
      "execution_count": null,
      "metadata": {
        "colab": {
          "base_uri": "https://localhost:8080/"
        },
        "id": "rLrIX_yJWHFo",
        "outputId": "30b908d5-4fcc-437c-8524-adbc78f50386"
      },
      "outputs": [
        {
          "data": {
            "text/plain": [
              "2700"
            ]
          },
          "execution_count": 13,
          "metadata": {},
          "output_type": "execute_result"
        }
      ],
      "source": [
        "len(str(summarized_text))"
      ]
    },
    {
      "cell_type": "code",
      "execution_count": null,
      "metadata": {
        "colab": {
          "base_uri": "https://localhost:8080/",
          "height": 109
        },
        "id": "31mkg8GbcddH",
        "outputId": "18fd50f3-b0e0-4c98-9806-6bcb2e66fc33"
      },
      "outputs": [
        {
          "data": {
            "application/vnd.google.colaboratory.intrinsic+json": {
              "type": "string"
            },
            "text/plain": [
              "'[\\'High mortgage rates are pushing home ownership further Out Of Reach for firsttime buyers. Americans wanting to buy a medium-priced home need to make at least $110,000 a year. Right now it is more affordable to rent than it is to pay for a mortgage.\\', \"Mortgage rates have started to fall and also more listings of homes are coming on the market which means there are more options for buyers. We are forecasting a slight correction in prices this year down 1% but it\\'s just not enough to really make Make It or Break It for a home buyer it\\'s probably going to keep getting less affordable.\", \"Vatican City is officially the smallest country in the world and roughly the size of 82 football [Music] fields move over Pisa there\\'s another Leaning Tower in Italy built in the 12th century the garisenda tower in bolognia Italy started tilting just two centuries later it now leans at a 4° angle slightly more than the Tower of Pisa currently.\", \"The Tower of Pisa is set to undergo a multi-year restoration project. A fish phenomenon off the coast of Florida is making your head spin. The city of New York plans to use the same equipment used to save the Tower of. Pisa for this $2 million restoration project that\\'s one Tower I would not want to get caught taking a selfie under.\", \\'State fish and wildlife officials and Florida\\\\\\'s Bone Fish and Tarpon trust have logged nearly 200 incidents with over 30 species acting this way. In just a few months at least 27 have beached themselves or died after intense episodes of what Anglers are calling the spins. \"It\\\\\\'s like I\\\\\\'m in the middle of a disaster movie and I\\\\\\'m that guy yelling from you know the Mountaintop trying to get people to pay attention\"\\', \\'My Parson team is part of a Statewide effort to solve the mystery of the spinning fish. While tests for most toxins have turned up empty the most promising suspect is found living off seaweed at the bottom a tiny Critter named gambir discus. The Single Cell algae can produce various neurotoxins and is showing up at record high levels.\\', \\'100% of the bone fish that were tested in the keys turned up at least seven different Pharmaceuticals from opioids to anti-depressants. This Behavior has not been seen before but it is sort of an attack from a thousand different angles for the creatures living down here.\\', \\'Jimmy has traveled to hundreds of cities comforting people who face traumatic events good boy Jimmy enjoyed this celebration with cool hats colorful balloons and even his own cake all right Superstars we want to throw a party of appreciation for the best dog on viewers on the planet and that is you shout out today to Wasa junor and Senior High School in Wasa Minnesota rise up.\\']'"
            ]
          },
          "execution_count": 14,
          "metadata": {},
          "output_type": "execute_result"
        }
      ],
      "source": [
        "str(summarized_text)\n"
      ]
    },
    {
      "cell_type": "markdown",
      "metadata": {
        "id": "r0ikV7ghQHg-"
      },
      "source": []
    },
    {
      "cell_type": "code",
      "execution_count": null,
      "metadata": {
        "id": "YxD0Mk6bArMY"
      },
      "outputs": [],
      "source": [
        "from googletrans import Translator"
      ]
    },
    {
      "cell_type": "code",
      "execution_count": null,
      "metadata": {
        "id": "Hm1V-fLaA0p-"
      },
      "outputs": [],
      "source": [
        "translator= Translator()"
      ]
    },
    {
      "cell_type": "code",
      "execution_count": null,
      "metadata": {
        "colab": {
          "base_uri": "https://localhost:8080/"
        },
        "id": "Xwt9oeBVPjlG",
        "outputId": "372ac84e-4597-45f1-8e94-c45d7106ff27"
      },
      "outputs": [
        {
          "name": "stdout",
          "output_type": "stream",
          "text": [
            "379\n",
            "\n",
            "Translated Summary:\n",
            "అధిక తనఖా రేట్లు మొదటిసారి కొనుగోలు చేసేవారికి ఇంటి యాజమాన్యాన్ని మరింత అందుబాటులోకి తెచ్చాయి. మీడియం-ధర గృహాన్ని కొనుగోలు చేయాలనుకునే అమెరికన్లు సంవత్సరానికి కనీసం $110,000 సంపాదించాలి. ప్రస్తుతం తనఖా కోసం చెల్లించడం కంటే అద్దెకు ఇవ్వడం చాలా సరసమైనది.\n",
            "తనఖా రేట్లు తగ్గడం ప్రారంభించాయి మరియు మరిన్ని గృహాల జాబితాలు మార్కెట్లోకి వస్తున్నాయి అంటే కొనుగోలుదారులకు మరిన్ని ఎంపికలు ఉన్నాయి. మేము ఈ సంవత్సరం ధరలలో 1% తగ్గుదలని అంచనా వేస్తున్నాము, అయితే ఇది నిజంగా మేక్ ఇట్ లేదా బ్రేక్ ఇట్‌ని ఇంటి కొనుగోలుదారు కోసం తయారు చేయడం సరిపోదు, ఇది బహుశా తక్కువ సరసమైన ధరను పొందుతూనే ఉంటుంది.\n",
            "వాటికన్ సిటీ అధికారికంగా ప్రపంచంలోనే అతి చిన్న దేశం మరియు దాదాపు 82 ఫుట్‌బాల్ [సంగీతం] మైదానాల పరిమాణం పీసా మీదుగా కదులుతుంది, 12వ శతాబ్దంలో ఇటలీలో మరో లీనింగ్ టవర్ నిర్మించబడింది, ఇటలీలోని బోలోగ్నియాలోని గరిసెండా టవర్ కేవలం రెండు శతాబ్దాల తర్వాత అది వంగిపోవడం ప్రారంభించింది. ప్రస్తుతం పిసా టవర్ కంటే కొంచెం ఎక్కువ 4° కోణంలో.\n",
            "పిసా టవర్ బహుళ-సంవత్సరాల పునరుద్ధరణ ప్రాజెక్ట్‌ను చేపట్టడానికి సిద్ధంగా ఉంది. ఫ్లోరిడా తీరంలో చేపల దృగ్విషయం మీ తల తిప్పేలా చేస్తోంది. న్యూయార్క్ నగరం టవర్‌ను రక్షించడానికి ఉపయోగించిన అదే పరికరాలను ఉపయోగించాలని యోచిస్తోంది. ఈ $2 మిలియన్ల పునరుద్ధరణ ప్రాజెక్ట్ కోసం పిసా ఒక టవర్ కింద సెల్ఫీ తీసుకుంటూ చిక్కుకోవడం నాకు ఇష్టం లేదు.\n",
            "రాష్ట్ర చేపలు మరియు వన్యప్రాణుల అధికారులు మరియు ఫ్లోరిడా యొక్క బోన్ ఫిష్ మరియు టార్పాన్ ట్రస్ట్ దాదాపు 200 సంఘటనలను నమోదు చేశారు, 30 జాతులకు పైగా ఈ విధంగా వ్యవహరిస్తున్నారు. కేవలం కొన్ని నెలల్లో కనీసం 27 మంది తమను తాము సముద్రతీరానికి చేరుకున్నారు లేదా జాలర్లు స్పిన్‌లుగా పిలుస్తున్న తీవ్రమైన ఎపిసోడ్‌ల తర్వాత మరణించారు. \"నేను విపత్తు చిత్రం మధ్యలో ఉన్నట్లుగా ఉంది మరియు నేను మీ నుండి అరుస్తున్న వ్యక్తిని పర్వత శిఖరం ప్రజలు దృష్టిని ఆకర్షించడానికి ప్రయత్నిస్తున్నట్లు తెలుసు\"\n",
            "నా పార్సన్ బృందం స్పిన్నింగ్ ఫిష్ యొక్క రహస్యాన్ని ఛేదించడానికి రాష్ట్రవ్యాప్త ప్రయత్నంలో భాగం. చాలా టాక్సిన్స్ కోసం పరీక్షలు ఖాళీగా మారినప్పటికీ, అత్యంత ఆశాజనకమైన అనుమానితుడు సముద్రపు పాచి దిగువన గంబీర్ డిస్కస్ అనే చిన్న క్రిటర్ నివసిస్తున్నట్లు కనుగొనబడింది. సింగిల్ సెల్ ఆల్గే వివిధ న్యూరోటాక్సిన్‌లను ఉత్పత్తి చేయగలదు మరియు రికార్డు స్థాయిలో అధిక స్థాయిలో కనపడుతుంది.\n",
            "కీలలో పరీక్షించబడిన 100% ఎముక చేపలు ఓపియాయిడ్ల నుండి యాంటీ-డిప్రెసెంట్స్ వరకు కనీసం ఏడు వేర్వేరు ఫార్మాస్యూటికల్‌లను కనుగొన్నాయి. ఈ బిహేవియర్ ఇంతకు ముందు కనిపించలేదు కానీ ఇక్కడ నివసించే జీవుల కోసం ఇది వెయ్యి విభిన్న కోణాల నుండి దాడి చేయడం.\n",
            "జిమ్మీ వందలాది నగరాలకు వెళ్లి బాధాకరమైన సంఘటనలను ఎదుర్కొనే వ్యక్తులను ఓదార్చాడు, గుడ్ బాయ్ జిమ్మీ చల్లని టోపీలతో రంగురంగుల బెలూన్‌లు మరియు తన స్వంత కేక్‌తో ఈ వేడుకను ఆస్వాదించాడు. అంటే మీరు వాసా మిన్నెసోటాలోని వాసా జూనియర్ మరియు సీనియర్ హైస్కూల్‌కు ఈరోజు కేకలు వేయండి.\n",
            "2671\n"
          ]
        }
      ],
      "source": [
        "translated_summary = []\n",
        "for text_part in summarized_text:\n",
        "    translation = translator.translate(text_part, dest='te').text\n",
        "    translated_summary.append(translation)\n",
        "\n",
        "print(len(str(text_part)))\n",
        "\n",
        "print(\"\\nTranslated Summary:\")\n",
        "\n",
        "for part in translated_summary:\n",
        "    print(part)\n",
        "print(len(str(translated_summary)))"
      ]
    }
  ],
  "metadata": {
    "colab": {
      "provenance": []
    },
    "kernelspec": {
      "display_name": "Python 3",
      "name": "python3"
    },
    "language_info": {
      "name": "python"
    },
    "widgets": {
      "application/vnd.jupyter.widget-state+json": {
        "01d78c07144b4927878dc321bda5bfeb": {
          "model_module": "@jupyter-widgets/base",
          "model_module_version": "1.2.0",
          "model_name": "LayoutModel",
          "state": {
            "_model_module": "@jupyter-widgets/base",
            "_model_module_version": "1.2.0",
            "_model_name": "LayoutModel",
            "_view_count": null,
            "_view_module": "@jupyter-widgets/base",
            "_view_module_version": "1.2.0",
            "_view_name": "LayoutView",
            "align_content": null,
            "align_items": null,
            "align_self": null,
            "border": null,
            "bottom": null,
            "display": null,
            "flex": null,
            "flex_flow": null,
            "grid_area": null,
            "grid_auto_columns": null,
            "grid_auto_flow": null,
            "grid_auto_rows": null,
            "grid_column": null,
            "grid_gap": null,
            "grid_row": null,
            "grid_template_areas": null,
            "grid_template_columns": null,
            "grid_template_rows": null,
            "height": null,
            "justify_content": null,
            "justify_items": null,
            "left": null,
            "margin": null,
            "max_height": null,
            "max_width": null,
            "min_height": null,
            "min_width": null,
            "object_fit": null,
            "object_position": null,
            "order": null,
            "overflow": null,
            "overflow_x": null,
            "overflow_y": null,
            "padding": null,
            "right": null,
            "top": null,
            "visibility": null,
            "width": null
          }
        },
        "01f85157c5e942e2bcca30e79510f00e": {
          "model_module": "@jupyter-widgets/controls",
          "model_module_version": "1.5.0",
          "model_name": "FloatProgressModel",
          "state": {
            "_dom_classes": [],
            "_model_module": "@jupyter-widgets/controls",
            "_model_module_version": "1.5.0",
            "_model_name": "FloatProgressModel",
            "_view_count": null,
            "_view_module": "@jupyter-widgets/controls",
            "_view_module_version": "1.5.0",
            "_view_name": "ProgressView",
            "bar_style": "success",
            "description": "",
            "description_tooltip": null,
            "layout": "IPY_MODEL_ddf90d1840d046d3a076b81c0fdddcbc",
            "max": 363,
            "min": 0,
            "orientation": "horizontal",
            "style": "IPY_MODEL_82032b49f6404f56ac784d74fd152164",
            "value": 363
          }
        },
        "058849d1dc2d4816b665f6201f4070be": {
          "model_module": "@jupyter-widgets/controls",
          "model_module_version": "1.5.0",
          "model_name": "HBoxModel",
          "state": {
            "_dom_classes": [],
            "_model_module": "@jupyter-widgets/controls",
            "_model_module_version": "1.5.0",
            "_model_name": "HBoxModel",
            "_view_count": null,
            "_view_module": "@jupyter-widgets/controls",
            "_view_module_version": "1.5.0",
            "_view_name": "HBoxView",
            "box_style": "",
            "children": [
              "IPY_MODEL_6af64061d3bf4200908637c9c43190d7",
              "IPY_MODEL_5db4ca979d0844bcbda2dab5be331db2",
              "IPY_MODEL_be6bbad68b454ee084f88de5d786b482"
            ],
            "layout": "IPY_MODEL_0e7741cba3954ddea471d87fd860ae72"
          }
        },
        "083144f28efb4ea48c00557ec8d28794": {
          "model_module": "@jupyter-widgets/controls",
          "model_module_version": "1.5.0",
          "model_name": "HBoxModel",
          "state": {
            "_dom_classes": [],
            "_model_module": "@jupyter-widgets/controls",
            "_model_module_version": "1.5.0",
            "_model_name": "HBoxModel",
            "_view_count": null,
            "_view_module": "@jupyter-widgets/controls",
            "_view_module_version": "1.5.0",
            "_view_name": "HBoxView",
            "box_style": "",
            "children": [
              "IPY_MODEL_e22cfefdc1a74a01a7ec780c90def508",
              "IPY_MODEL_01f85157c5e942e2bcca30e79510f00e",
              "IPY_MODEL_d76a2d89405740cfb95b1e6f05328c27"
            ],
            "layout": "IPY_MODEL_fb6ef848602c4c3488308aa943cc4038"
          }
        },
        "0e7741cba3954ddea471d87fd860ae72": {
          "model_module": "@jupyter-widgets/base",
          "model_module_version": "1.2.0",
          "model_name": "LayoutModel",
          "state": {
            "_model_module": "@jupyter-widgets/base",
            "_model_module_version": "1.2.0",
            "_model_name": "LayoutModel",
            "_view_count": null,
            "_view_module": "@jupyter-widgets/base",
            "_view_module_version": "1.2.0",
            "_view_name": "LayoutView",
            "align_content": null,
            "align_items": null,
            "align_self": null,
            "border": null,
            "bottom": null,
            "display": null,
            "flex": null,
            "flex_flow": null,
            "grid_area": null,
            "grid_auto_columns": null,
            "grid_auto_flow": null,
            "grid_auto_rows": null,
            "grid_column": null,
            "grid_gap": null,
            "grid_row": null,
            "grid_template_areas": null,
            "grid_template_columns": null,
            "grid_template_rows": null,
            "height": null,
            "justify_content": null,
            "justify_items": null,
            "left": null,
            "margin": null,
            "max_height": null,
            "max_width": null,
            "min_height": null,
            "min_width": null,
            "object_fit": null,
            "object_position": null,
            "order": null,
            "overflow": null,
            "overflow_x": null,
            "overflow_y": null,
            "padding": null,
            "right": null,
            "top": null,
            "visibility": null,
            "width": null
          }
        },
        "1034a311cc7d4a628801b98608f5cb82": {
          "model_module": "@jupyter-widgets/controls",
          "model_module_version": "1.5.0",
          "model_name": "HBoxModel",
          "state": {
            "_dom_classes": [],
            "_model_module": "@jupyter-widgets/controls",
            "_model_module_version": "1.5.0",
            "_model_name": "HBoxModel",
            "_view_count": null,
            "_view_module": "@jupyter-widgets/controls",
            "_view_module_version": "1.5.0",
            "_view_name": "HBoxView",
            "box_style": "",
            "children": [
              "IPY_MODEL_50c4a432190c43588d3ac403823be383",
              "IPY_MODEL_bfcd0d2ac6cc4d57a427b0da5fb61085",
              "IPY_MODEL_f910b47f7dd84810b5e93d210330896a"
            ],
            "layout": "IPY_MODEL_61917decbb40451399062daacae22ad8"
          }
        },
        "158c7fc105a041dfb37b348abe7602ef": {
          "model_module": "@jupyter-widgets/base",
          "model_module_version": "1.2.0",
          "model_name": "LayoutModel",
          "state": {
            "_model_module": "@jupyter-widgets/base",
            "_model_module_version": "1.2.0",
            "_model_name": "LayoutModel",
            "_view_count": null,
            "_view_module": "@jupyter-widgets/base",
            "_view_module_version": "1.2.0",
            "_view_name": "LayoutView",
            "align_content": null,
            "align_items": null,
            "align_self": null,
            "border": null,
            "bottom": null,
            "display": null,
            "flex": null,
            "flex_flow": null,
            "grid_area": null,
            "grid_auto_columns": null,
            "grid_auto_flow": null,
            "grid_auto_rows": null,
            "grid_column": null,
            "grid_gap": null,
            "grid_row": null,
            "grid_template_areas": null,
            "grid_template_columns": null,
            "grid_template_rows": null,
            "height": null,
            "justify_content": null,
            "justify_items": null,
            "left": null,
            "margin": null,
            "max_height": null,
            "max_width": null,
            "min_height": null,
            "min_width": null,
            "object_fit": null,
            "object_position": null,
            "order": null,
            "overflow": null,
            "overflow_x": null,
            "overflow_y": null,
            "padding": null,
            "right": null,
            "top": null,
            "visibility": null,
            "width": null
          }
        },
        "19a888f9d8414e639773893418eab3cb": {
          "model_module": "@jupyter-widgets/controls",
          "model_module_version": "1.5.0",
          "model_name": "HBoxModel",
          "state": {
            "_dom_classes": [],
            "_model_module": "@jupyter-widgets/controls",
            "_model_module_version": "1.5.0",
            "_model_name": "HBoxModel",
            "_view_count": null,
            "_view_module": "@jupyter-widgets/controls",
            "_view_module_version": "1.5.0",
            "_view_name": "HBoxView",
            "box_style": "",
            "children": [
              "IPY_MODEL_4fa4588baabc449a95492bc202add9b7",
              "IPY_MODEL_a8472cf240c54ec89829256e2a979e26",
              "IPY_MODEL_2e14be406c674bd4a7ffe228b64a96c6"
            ],
            "layout": "IPY_MODEL_d15b97776f504a138a0e5bb015120ec2"
          }
        },
        "1c7f8d1555df4a6da5bbdf9767514544": {
          "model_module": "@jupyter-widgets/controls",
          "model_module_version": "1.5.0",
          "model_name": "ProgressStyleModel",
          "state": {
            "_model_module": "@jupyter-widgets/controls",
            "_model_module_version": "1.5.0",
            "_model_name": "ProgressStyleModel",
            "_view_count": null,
            "_view_module": "@jupyter-widgets/base",
            "_view_module_version": "1.2.0",
            "_view_name": "StyleView",
            "bar_color": null,
            "description_width": ""
          }
        },
        "2162343fc98a4a09b8110d8eadfadf69": {
          "model_module": "@jupyter-widgets/base",
          "model_module_version": "1.2.0",
          "model_name": "LayoutModel",
          "state": {
            "_model_module": "@jupyter-widgets/base",
            "_model_module_version": "1.2.0",
            "_model_name": "LayoutModel",
            "_view_count": null,
            "_view_module": "@jupyter-widgets/base",
            "_view_module_version": "1.2.0",
            "_view_name": "LayoutView",
            "align_content": null,
            "align_items": null,
            "align_self": null,
            "border": null,
            "bottom": null,
            "display": null,
            "flex": null,
            "flex_flow": null,
            "grid_area": null,
            "grid_auto_columns": null,
            "grid_auto_flow": null,
            "grid_auto_rows": null,
            "grid_column": null,
            "grid_gap": null,
            "grid_row": null,
            "grid_template_areas": null,
            "grid_template_columns": null,
            "grid_template_rows": null,
            "height": null,
            "justify_content": null,
            "justify_items": null,
            "left": null,
            "margin": null,
            "max_height": null,
            "max_width": null,
            "min_height": null,
            "min_width": null,
            "object_fit": null,
            "object_position": null,
            "order": null,
            "overflow": null,
            "overflow_x": null,
            "overflow_y": null,
            "padding": null,
            "right": null,
            "top": null,
            "visibility": null,
            "width": null
          }
        },
        "27f2beca89744a39a2bf88a03b870ff4": {
          "model_module": "@jupyter-widgets/base",
          "model_module_version": "1.2.0",
          "model_name": "LayoutModel",
          "state": {
            "_model_module": "@jupyter-widgets/base",
            "_model_module_version": "1.2.0",
            "_model_name": "LayoutModel",
            "_view_count": null,
            "_view_module": "@jupyter-widgets/base",
            "_view_module_version": "1.2.0",
            "_view_name": "LayoutView",
            "align_content": null,
            "align_items": null,
            "align_self": null,
            "border": null,
            "bottom": null,
            "display": null,
            "flex": null,
            "flex_flow": null,
            "grid_area": null,
            "grid_auto_columns": null,
            "grid_auto_flow": null,
            "grid_auto_rows": null,
            "grid_column": null,
            "grid_gap": null,
            "grid_row": null,
            "grid_template_areas": null,
            "grid_template_columns": null,
            "grid_template_rows": null,
            "height": null,
            "justify_content": null,
            "justify_items": null,
            "left": null,
            "margin": null,
            "max_height": null,
            "max_width": null,
            "min_height": null,
            "min_width": null,
            "object_fit": null,
            "object_position": null,
            "order": null,
            "overflow": null,
            "overflow_x": null,
            "overflow_y": null,
            "padding": null,
            "right": null,
            "top": null,
            "visibility": null,
            "width": null
          }
        },
        "2e14be406c674bd4a7ffe228b64a96c6": {
          "model_module": "@jupyter-widgets/controls",
          "model_module_version": "1.5.0",
          "model_name": "HTMLModel",
          "state": {
            "_dom_classes": [],
            "_model_module": "@jupyter-widgets/controls",
            "_model_module_version": "1.5.0",
            "_model_name": "HTMLModel",
            "_view_count": null,
            "_view_module": "@jupyter-widgets/controls",
            "_view_module_version": "1.5.0",
            "_view_name": "HTMLView",
            "description": "",
            "description_tooltip": null,
            "layout": "IPY_MODEL_d639a64ff8834caeba6df880be1fa96d",
            "placeholder": "​",
            "style": "IPY_MODEL_e45405e3e42746eab1aed5c2eef54c10",
            "value": " 1.36M/1.36M [00:00&lt;00:00, 26.1MB/s]"
          }
        },
        "30e7062bba484113b72e5c9e7cfe40bf": {
          "model_module": "@jupyter-widgets/controls",
          "model_module_version": "1.5.0",
          "model_name": "ProgressStyleModel",
          "state": {
            "_model_module": "@jupyter-widgets/controls",
            "_model_module_version": "1.5.0",
            "_model_name": "ProgressStyleModel",
            "_view_count": null,
            "_view_module": "@jupyter-widgets/base",
            "_view_module_version": "1.2.0",
            "_view_name": "StyleView",
            "bar_color": null,
            "description_width": ""
          }
        },
        "325a763d573e40cfb68474f4924ce7b0": {
          "model_module": "@jupyter-widgets/base",
          "model_module_version": "1.2.0",
          "model_name": "LayoutModel",
          "state": {
            "_model_module": "@jupyter-widgets/base",
            "_model_module_version": "1.2.0",
            "_model_name": "LayoutModel",
            "_view_count": null,
            "_view_module": "@jupyter-widgets/base",
            "_view_module_version": "1.2.0",
            "_view_name": "LayoutView",
            "align_content": null,
            "align_items": null,
            "align_self": null,
            "border": null,
            "bottom": null,
            "display": null,
            "flex": null,
            "flex_flow": null,
            "grid_area": null,
            "grid_auto_columns": null,
            "grid_auto_flow": null,
            "grid_auto_rows": null,
            "grid_column": null,
            "grid_gap": null,
            "grid_row": null,
            "grid_template_areas": null,
            "grid_template_columns": null,
            "grid_template_rows": null,
            "height": null,
            "justify_content": null,
            "justify_items": null,
            "left": null,
            "margin": null,
            "max_height": null,
            "max_width": null,
            "min_height": null,
            "min_width": null,
            "object_fit": null,
            "object_position": null,
            "order": null,
            "overflow": null,
            "overflow_x": null,
            "overflow_y": null,
            "padding": null,
            "right": null,
            "top": null,
            "visibility": null,
            "width": null
          }
        },
        "3a6d9e2213a44feaaa0be9a37ca0d7bd": {
          "model_module": "@jupyter-widgets/base",
          "model_module_version": "1.2.0",
          "model_name": "LayoutModel",
          "state": {
            "_model_module": "@jupyter-widgets/base",
            "_model_module_version": "1.2.0",
            "_model_name": "LayoutModel",
            "_view_count": null,
            "_view_module": "@jupyter-widgets/base",
            "_view_module_version": "1.2.0",
            "_view_name": "LayoutView",
            "align_content": null,
            "align_items": null,
            "align_self": null,
            "border": null,
            "bottom": null,
            "display": null,
            "flex": null,
            "flex_flow": null,
            "grid_area": null,
            "grid_auto_columns": null,
            "grid_auto_flow": null,
            "grid_auto_rows": null,
            "grid_column": null,
            "grid_gap": null,
            "grid_row": null,
            "grid_template_areas": null,
            "grid_template_columns": null,
            "grid_template_rows": null,
            "height": null,
            "justify_content": null,
            "justify_items": null,
            "left": null,
            "margin": null,
            "max_height": null,
            "max_width": null,
            "min_height": null,
            "min_width": null,
            "object_fit": null,
            "object_position": null,
            "order": null,
            "overflow": null,
            "overflow_x": null,
            "overflow_y": null,
            "padding": null,
            "right": null,
            "top": null,
            "visibility": null,
            "width": null
          }
        },
        "3c8f230cb1e54593b63e9e289f57bbfe": {
          "model_module": "@jupyter-widgets/controls",
          "model_module_version": "1.5.0",
          "model_name": "HTMLModel",
          "state": {
            "_dom_classes": [],
            "_model_module": "@jupyter-widgets/controls",
            "_model_module_version": "1.5.0",
            "_model_name": "HTMLModel",
            "_view_count": null,
            "_view_module": "@jupyter-widgets/controls",
            "_view_module_version": "1.5.0",
            "_view_name": "HTMLView",
            "description": "",
            "description_tooltip": null,
            "layout": "IPY_MODEL_a3565ea5c70c4ab5aa8c786e27e18448",
            "placeholder": "​",
            "style": "IPY_MODEL_9438ef8070fc4ffcbf4a0cdf11fbb097",
            "value": "vocab.json: 100%"
          }
        },
        "4d90133d08bd46598013a02b198070ce": {
          "model_module": "@jupyter-widgets/controls",
          "model_module_version": "1.5.0",
          "model_name": "HTMLModel",
          "state": {
            "_dom_classes": [],
            "_model_module": "@jupyter-widgets/controls",
            "_model_module_version": "1.5.0",
            "_model_name": "HTMLModel",
            "_view_count": null,
            "_view_module": "@jupyter-widgets/controls",
            "_view_module_version": "1.5.0",
            "_view_name": "HTMLView",
            "description": "",
            "description_tooltip": null,
            "layout": "IPY_MODEL_27f2beca89744a39a2bf88a03b870ff4",
            "placeholder": "​",
            "style": "IPY_MODEL_860cde385cc74741a93ff1cdaef317a8",
            "value": " 899k/899k [00:00&lt;00:00, 11.2MB/s]"
          }
        },
        "4fa4588baabc449a95492bc202add9b7": {
          "model_module": "@jupyter-widgets/controls",
          "model_module_version": "1.5.0",
          "model_name": "HTMLModel",
          "state": {
            "_dom_classes": [],
            "_model_module": "@jupyter-widgets/controls",
            "_model_module_version": "1.5.0",
            "_model_name": "HTMLModel",
            "_view_count": null,
            "_view_module": "@jupyter-widgets/controls",
            "_view_module_version": "1.5.0",
            "_view_name": "HTMLView",
            "description": "",
            "description_tooltip": null,
            "layout": "IPY_MODEL_a41d458a011f4128ba4d8e5543d6c9e8",
            "placeholder": "​",
            "style": "IPY_MODEL_bd5e39b0f98c42df9ebd6895850d46bf",
            "value": "tokenizer.json: 100%"
          }
        },
        "50c4a432190c43588d3ac403823be383": {
          "model_module": "@jupyter-widgets/controls",
          "model_module_version": "1.5.0",
          "model_name": "HTMLModel",
          "state": {
            "_dom_classes": [],
            "_model_module": "@jupyter-widgets/controls",
            "_model_module_version": "1.5.0",
            "_model_name": "HTMLModel",
            "_view_count": null,
            "_view_module": "@jupyter-widgets/controls",
            "_view_module_version": "1.5.0",
            "_view_name": "HTMLView",
            "description": "",
            "description_tooltip": null,
            "layout": "IPY_MODEL_fc6bde7c00824093bce658541c68a0ce",
            "placeholder": "​",
            "style": "IPY_MODEL_e999efff5d5a41829112801391f66607",
            "value": "config.json: 100%"
          }
        },
        "5db4ca979d0844bcbda2dab5be331db2": {
          "model_module": "@jupyter-widgets/controls",
          "model_module_version": "1.5.0",
          "model_name": "FloatProgressModel",
          "state": {
            "_dom_classes": [],
            "_model_module": "@jupyter-widgets/controls",
            "_model_module_version": "1.5.0",
            "_model_name": "FloatProgressModel",
            "_view_count": null,
            "_view_module": "@jupyter-widgets/controls",
            "_view_module_version": "1.5.0",
            "_view_name": "ProgressView",
            "bar_style": "success",
            "description": "",
            "description_tooltip": null,
            "layout": "IPY_MODEL_dda48b54d33f44a7a81b38ef44068ba6",
            "max": 456318,
            "min": 0,
            "orientation": "horizontal",
            "style": "IPY_MODEL_d964a8fb1e9d49969fa67dde29f26eb5",
            "value": 456318
          }
        },
        "61917decbb40451399062daacae22ad8": {
          "model_module": "@jupyter-widgets/base",
          "model_module_version": "1.2.0",
          "model_name": "LayoutModel",
          "state": {
            "_model_module": "@jupyter-widgets/base",
            "_model_module_version": "1.2.0",
            "_model_name": "LayoutModel",
            "_view_count": null,
            "_view_module": "@jupyter-widgets/base",
            "_view_module_version": "1.2.0",
            "_view_name": "LayoutView",
            "align_content": null,
            "align_items": null,
            "align_self": null,
            "border": null,
            "bottom": null,
            "display": null,
            "flex": null,
            "flex_flow": null,
            "grid_area": null,
            "grid_auto_columns": null,
            "grid_auto_flow": null,
            "grid_auto_rows": null,
            "grid_column": null,
            "grid_gap": null,
            "grid_row": null,
            "grid_template_areas": null,
            "grid_template_columns": null,
            "grid_template_rows": null,
            "height": null,
            "justify_content": null,
            "justify_items": null,
            "left": null,
            "margin": null,
            "max_height": null,
            "max_width": null,
            "min_height": null,
            "min_width": null,
            "object_fit": null,
            "object_position": null,
            "order": null,
            "overflow": null,
            "overflow_x": null,
            "overflow_y": null,
            "padding": null,
            "right": null,
            "top": null,
            "visibility": null,
            "width": null
          }
        },
        "631a00ee581a44b5bb0a5989e78974fd": {
          "model_module": "@jupyter-widgets/base",
          "model_module_version": "1.2.0",
          "model_name": "LayoutModel",
          "state": {
            "_model_module": "@jupyter-widgets/base",
            "_model_module_version": "1.2.0",
            "_model_name": "LayoutModel",
            "_view_count": null,
            "_view_module": "@jupyter-widgets/base",
            "_view_module_version": "1.2.0",
            "_view_name": "LayoutView",
            "align_content": null,
            "align_items": null,
            "align_self": null,
            "border": null,
            "bottom": null,
            "display": null,
            "flex": null,
            "flex_flow": null,
            "grid_area": null,
            "grid_auto_columns": null,
            "grid_auto_flow": null,
            "grid_auto_rows": null,
            "grid_column": null,
            "grid_gap": null,
            "grid_row": null,
            "grid_template_areas": null,
            "grid_template_columns": null,
            "grid_template_rows": null,
            "height": null,
            "justify_content": null,
            "justify_items": null,
            "left": null,
            "margin": null,
            "max_height": null,
            "max_width": null,
            "min_height": null,
            "min_width": null,
            "object_fit": null,
            "object_position": null,
            "order": null,
            "overflow": null,
            "overflow_x": null,
            "overflow_y": null,
            "padding": null,
            "right": null,
            "top": null,
            "visibility": null,
            "width": null
          }
        },
        "665ec13b47754e9e9bc1a3ea578695d1": {
          "model_module": "@jupyter-widgets/controls",
          "model_module_version": "1.5.0",
          "model_name": "HTMLModel",
          "state": {
            "_dom_classes": [],
            "_model_module": "@jupyter-widgets/controls",
            "_model_module_version": "1.5.0",
            "_model_name": "HTMLModel",
            "_view_count": null,
            "_view_module": "@jupyter-widgets/controls",
            "_view_module_version": "1.5.0",
            "_view_name": "HTMLView",
            "description": "",
            "description_tooltip": null,
            "layout": "IPY_MODEL_d4b18a0aac164c8399b284d9e1d9f3e9",
            "placeholder": "​",
            "style": "IPY_MODEL_e8c4eca5ec3e4a8e97d0b3094b2e566c",
            "value": " 1.63G/1.63G [00:18&lt;00:00, 125MB/s]"
          }
        },
        "68454bc5db0d417d9c2678a6cbe54406": {
          "model_module": "@jupyter-widgets/controls",
          "model_module_version": "1.5.0",
          "model_name": "DescriptionStyleModel",
          "state": {
            "_model_module": "@jupyter-widgets/controls",
            "_model_module_version": "1.5.0",
            "_model_name": "DescriptionStyleModel",
            "_view_count": null,
            "_view_module": "@jupyter-widgets/base",
            "_view_module_version": "1.2.0",
            "_view_name": "StyleView",
            "description_width": ""
          }
        },
        "695eb21d81124894ad1092c068f65fc2": {
          "model_module": "@jupyter-widgets/controls",
          "model_module_version": "1.5.0",
          "model_name": "DescriptionStyleModel",
          "state": {
            "_model_module": "@jupyter-widgets/controls",
            "_model_module_version": "1.5.0",
            "_model_name": "DescriptionStyleModel",
            "_view_count": null,
            "_view_module": "@jupyter-widgets/base",
            "_view_module_version": "1.2.0",
            "_view_name": "StyleView",
            "description_width": ""
          }
        },
        "6af64061d3bf4200908637c9c43190d7": {
          "model_module": "@jupyter-widgets/controls",
          "model_module_version": "1.5.0",
          "model_name": "HTMLModel",
          "state": {
            "_dom_classes": [],
            "_model_module": "@jupyter-widgets/controls",
            "_model_module_version": "1.5.0",
            "_model_name": "HTMLModel",
            "_view_count": null,
            "_view_module": "@jupyter-widgets/controls",
            "_view_module_version": "1.5.0",
            "_view_name": "HTMLView",
            "description": "",
            "description_tooltip": null,
            "layout": "IPY_MODEL_01d78c07144b4927878dc321bda5bfeb",
            "placeholder": "​",
            "style": "IPY_MODEL_695eb21d81124894ad1092c068f65fc2",
            "value": "merges.txt: 100%"
          }
        },
        "6c41b7d0a3504abe969ce37cac890a78": {
          "model_module": "@jupyter-widgets/base",
          "model_module_version": "1.2.0",
          "model_name": "LayoutModel",
          "state": {
            "_model_module": "@jupyter-widgets/base",
            "_model_module_version": "1.2.0",
            "_model_name": "LayoutModel",
            "_view_count": null,
            "_view_module": "@jupyter-widgets/base",
            "_view_module_version": "1.2.0",
            "_view_name": "LayoutView",
            "align_content": null,
            "align_items": null,
            "align_self": null,
            "border": null,
            "bottom": null,
            "display": null,
            "flex": null,
            "flex_flow": null,
            "grid_area": null,
            "grid_auto_columns": null,
            "grid_auto_flow": null,
            "grid_auto_rows": null,
            "grid_column": null,
            "grid_gap": null,
            "grid_row": null,
            "grid_template_areas": null,
            "grid_template_columns": null,
            "grid_template_rows": null,
            "height": null,
            "justify_content": null,
            "justify_items": null,
            "left": null,
            "margin": null,
            "max_height": null,
            "max_width": null,
            "min_height": null,
            "min_width": null,
            "object_fit": null,
            "object_position": null,
            "order": null,
            "overflow": null,
            "overflow_x": null,
            "overflow_y": null,
            "padding": null,
            "right": null,
            "top": null,
            "visibility": null,
            "width": null
          }
        },
        "76e70e11c56d4b448ec66f9ffbf72545": {
          "model_module": "@jupyter-widgets/controls",
          "model_module_version": "1.5.0",
          "model_name": "HTMLModel",
          "state": {
            "_dom_classes": [],
            "_model_module": "@jupyter-widgets/controls",
            "_model_module_version": "1.5.0",
            "_model_name": "HTMLModel",
            "_view_count": null,
            "_view_module": "@jupyter-widgets/controls",
            "_view_module_version": "1.5.0",
            "_view_name": "HTMLView",
            "description": "",
            "description_tooltip": null,
            "layout": "IPY_MODEL_f2400ff0a2ac491393ae76b71d7eaba4",
            "placeholder": "​",
            "style": "IPY_MODEL_b0cbf480b1b5446eb8be50f24e103dd4",
            "value": "model.safetensors: 100%"
          }
        },
        "82032b49f6404f56ac784d74fd152164": {
          "model_module": "@jupyter-widgets/controls",
          "model_module_version": "1.5.0",
          "model_name": "ProgressStyleModel",
          "state": {
            "_model_module": "@jupyter-widgets/controls",
            "_model_module_version": "1.5.0",
            "_model_name": "ProgressStyleModel",
            "_view_count": null,
            "_view_module": "@jupyter-widgets/base",
            "_view_module_version": "1.2.0",
            "_view_name": "StyleView",
            "bar_color": null,
            "description_width": ""
          }
        },
        "860cde385cc74741a93ff1cdaef317a8": {
          "model_module": "@jupyter-widgets/controls",
          "model_module_version": "1.5.0",
          "model_name": "DescriptionStyleModel",
          "state": {
            "_model_module": "@jupyter-widgets/controls",
            "_model_module_version": "1.5.0",
            "_model_name": "DescriptionStyleModel",
            "_view_count": null,
            "_view_module": "@jupyter-widgets/base",
            "_view_module_version": "1.2.0",
            "_view_name": "StyleView",
            "description_width": ""
          }
        },
        "9438ef8070fc4ffcbf4a0cdf11fbb097": {
          "model_module": "@jupyter-widgets/controls",
          "model_module_version": "1.5.0",
          "model_name": "DescriptionStyleModel",
          "state": {
            "_model_module": "@jupyter-widgets/controls",
            "_model_module_version": "1.5.0",
            "_model_name": "DescriptionStyleModel",
            "_view_count": null,
            "_view_module": "@jupyter-widgets/base",
            "_view_module_version": "1.2.0",
            "_view_name": "StyleView",
            "description_width": ""
          }
        },
        "a3565ea5c70c4ab5aa8c786e27e18448": {
          "model_module": "@jupyter-widgets/base",
          "model_module_version": "1.2.0",
          "model_name": "LayoutModel",
          "state": {
            "_model_module": "@jupyter-widgets/base",
            "_model_module_version": "1.2.0",
            "_model_name": "LayoutModel",
            "_view_count": null,
            "_view_module": "@jupyter-widgets/base",
            "_view_module_version": "1.2.0",
            "_view_name": "LayoutView",
            "align_content": null,
            "align_items": null,
            "align_self": null,
            "border": null,
            "bottom": null,
            "display": null,
            "flex": null,
            "flex_flow": null,
            "grid_area": null,
            "grid_auto_columns": null,
            "grid_auto_flow": null,
            "grid_auto_rows": null,
            "grid_column": null,
            "grid_gap": null,
            "grid_row": null,
            "grid_template_areas": null,
            "grid_template_columns": null,
            "grid_template_rows": null,
            "height": null,
            "justify_content": null,
            "justify_items": null,
            "left": null,
            "margin": null,
            "max_height": null,
            "max_width": null,
            "min_height": null,
            "min_width": null,
            "object_fit": null,
            "object_position": null,
            "order": null,
            "overflow": null,
            "overflow_x": null,
            "overflow_y": null,
            "padding": null,
            "right": null,
            "top": null,
            "visibility": null,
            "width": null
          }
        },
        "a41d458a011f4128ba4d8e5543d6c9e8": {
          "model_module": "@jupyter-widgets/base",
          "model_module_version": "1.2.0",
          "model_name": "LayoutModel",
          "state": {
            "_model_module": "@jupyter-widgets/base",
            "_model_module_version": "1.2.0",
            "_model_name": "LayoutModel",
            "_view_count": null,
            "_view_module": "@jupyter-widgets/base",
            "_view_module_version": "1.2.0",
            "_view_name": "LayoutView",
            "align_content": null,
            "align_items": null,
            "align_self": null,
            "border": null,
            "bottom": null,
            "display": null,
            "flex": null,
            "flex_flow": null,
            "grid_area": null,
            "grid_auto_columns": null,
            "grid_auto_flow": null,
            "grid_auto_rows": null,
            "grid_column": null,
            "grid_gap": null,
            "grid_row": null,
            "grid_template_areas": null,
            "grid_template_columns": null,
            "grid_template_rows": null,
            "height": null,
            "justify_content": null,
            "justify_items": null,
            "left": null,
            "margin": null,
            "max_height": null,
            "max_width": null,
            "min_height": null,
            "min_width": null,
            "object_fit": null,
            "object_position": null,
            "order": null,
            "overflow": null,
            "overflow_x": null,
            "overflow_y": null,
            "padding": null,
            "right": null,
            "top": null,
            "visibility": null,
            "width": null
          }
        },
        "a61f0797aa62456d8a01818a2437ffbe": {
          "model_module": "@jupyter-widgets/controls",
          "model_module_version": "1.5.0",
          "model_name": "DescriptionStyleModel",
          "state": {
            "_model_module": "@jupyter-widgets/controls",
            "_model_module_version": "1.5.0",
            "_model_name": "DescriptionStyleModel",
            "_view_count": null,
            "_view_module": "@jupyter-widgets/base",
            "_view_module_version": "1.2.0",
            "_view_name": "StyleView",
            "description_width": ""
          }
        },
        "a8472cf240c54ec89829256e2a979e26": {
          "model_module": "@jupyter-widgets/controls",
          "model_module_version": "1.5.0",
          "model_name": "FloatProgressModel",
          "state": {
            "_dom_classes": [],
            "_model_module": "@jupyter-widgets/controls",
            "_model_module_version": "1.5.0",
            "_model_name": "FloatProgressModel",
            "_view_count": null,
            "_view_module": "@jupyter-widgets/controls",
            "_view_module_version": "1.5.0",
            "_view_name": "ProgressView",
            "bar_style": "success",
            "description": "",
            "description_tooltip": null,
            "layout": "IPY_MODEL_b6161606230f48bb9ee828d42f2529ce",
            "max": 1355863,
            "min": 0,
            "orientation": "horizontal",
            "style": "IPY_MODEL_d156f539e8fc42bf8c1a055124524a42",
            "value": 1355863
          }
        },
        "b0cbf480b1b5446eb8be50f24e103dd4": {
          "model_module": "@jupyter-widgets/controls",
          "model_module_version": "1.5.0",
          "model_name": "DescriptionStyleModel",
          "state": {
            "_model_module": "@jupyter-widgets/controls",
            "_model_module_version": "1.5.0",
            "_model_name": "DescriptionStyleModel",
            "_view_count": null,
            "_view_module": "@jupyter-widgets/base",
            "_view_module_version": "1.2.0",
            "_view_name": "StyleView",
            "description_width": ""
          }
        },
        "b5c53b1aaf644db78958701381e82932": {
          "model_module": "@jupyter-widgets/controls",
          "model_module_version": "1.5.0",
          "model_name": "ProgressStyleModel",
          "state": {
            "_model_module": "@jupyter-widgets/controls",
            "_model_module_version": "1.5.0",
            "_model_name": "ProgressStyleModel",
            "_view_count": null,
            "_view_module": "@jupyter-widgets/base",
            "_view_module_version": "1.2.0",
            "_view_name": "StyleView",
            "bar_color": null,
            "description_width": ""
          }
        },
        "b6161606230f48bb9ee828d42f2529ce": {
          "model_module": "@jupyter-widgets/base",
          "model_module_version": "1.2.0",
          "model_name": "LayoutModel",
          "state": {
            "_model_module": "@jupyter-widgets/base",
            "_model_module_version": "1.2.0",
            "_model_name": "LayoutModel",
            "_view_count": null,
            "_view_module": "@jupyter-widgets/base",
            "_view_module_version": "1.2.0",
            "_view_name": "LayoutView",
            "align_content": null,
            "align_items": null,
            "align_self": null,
            "border": null,
            "bottom": null,
            "display": null,
            "flex": null,
            "flex_flow": null,
            "grid_area": null,
            "grid_auto_columns": null,
            "grid_auto_flow": null,
            "grid_auto_rows": null,
            "grid_column": null,
            "grid_gap": null,
            "grid_row": null,
            "grid_template_areas": null,
            "grid_template_columns": null,
            "grid_template_rows": null,
            "height": null,
            "justify_content": null,
            "justify_items": null,
            "left": null,
            "margin": null,
            "max_height": null,
            "max_width": null,
            "min_height": null,
            "min_width": null,
            "object_fit": null,
            "object_position": null,
            "order": null,
            "overflow": null,
            "overflow_x": null,
            "overflow_y": null,
            "padding": null,
            "right": null,
            "top": null,
            "visibility": null,
            "width": null
          }
        },
        "bd5e39b0f98c42df9ebd6895850d46bf": {
          "model_module": "@jupyter-widgets/controls",
          "model_module_version": "1.5.0",
          "model_name": "DescriptionStyleModel",
          "state": {
            "_model_module": "@jupyter-widgets/controls",
            "_model_module_version": "1.5.0",
            "_model_name": "DescriptionStyleModel",
            "_view_count": null,
            "_view_module": "@jupyter-widgets/base",
            "_view_module_version": "1.2.0",
            "_view_name": "StyleView",
            "description_width": ""
          }
        },
        "be6bbad68b454ee084f88de5d786b482": {
          "model_module": "@jupyter-widgets/controls",
          "model_module_version": "1.5.0",
          "model_name": "HTMLModel",
          "state": {
            "_dom_classes": [],
            "_model_module": "@jupyter-widgets/controls",
            "_model_module_version": "1.5.0",
            "_model_name": "HTMLModel",
            "_view_count": null,
            "_view_module": "@jupyter-widgets/controls",
            "_view_module_version": "1.5.0",
            "_view_name": "HTMLView",
            "description": "",
            "description_tooltip": null,
            "layout": "IPY_MODEL_3a6d9e2213a44feaaa0be9a37ca0d7bd",
            "placeholder": "​",
            "style": "IPY_MODEL_fa4d44fd3d914ff29232ffc84ea178f9",
            "value": " 456k/456k [00:00&lt;00:00, 18.6MB/s]"
          }
        },
        "bfcd0d2ac6cc4d57a427b0da5fb61085": {
          "model_module": "@jupyter-widgets/controls",
          "model_module_version": "1.5.0",
          "model_name": "FloatProgressModel",
          "state": {
            "_dom_classes": [],
            "_model_module": "@jupyter-widgets/controls",
            "_model_module_version": "1.5.0",
            "_model_name": "FloatProgressModel",
            "_view_count": null,
            "_view_module": "@jupyter-widgets/controls",
            "_view_module_version": "1.5.0",
            "_view_name": "ProgressView",
            "bar_style": "success",
            "description": "",
            "description_tooltip": null,
            "layout": "IPY_MODEL_2162343fc98a4a09b8110d8eadfadf69",
            "max": 1585,
            "min": 0,
            "orientation": "horizontal",
            "style": "IPY_MODEL_b5c53b1aaf644db78958701381e82932",
            "value": 1585
          }
        },
        "c9f919b79c344061842a69f8820cf08a": {
          "model_module": "@jupyter-widgets/base",
          "model_module_version": "1.2.0",
          "model_name": "LayoutModel",
          "state": {
            "_model_module": "@jupyter-widgets/base",
            "_model_module_version": "1.2.0",
            "_model_name": "LayoutModel",
            "_view_count": null,
            "_view_module": "@jupyter-widgets/base",
            "_view_module_version": "1.2.0",
            "_view_name": "LayoutView",
            "align_content": null,
            "align_items": null,
            "align_self": null,
            "border": null,
            "bottom": null,
            "display": null,
            "flex": null,
            "flex_flow": null,
            "grid_area": null,
            "grid_auto_columns": null,
            "grid_auto_flow": null,
            "grid_auto_rows": null,
            "grid_column": null,
            "grid_gap": null,
            "grid_row": null,
            "grid_template_areas": null,
            "grid_template_columns": null,
            "grid_template_rows": null,
            "height": null,
            "justify_content": null,
            "justify_items": null,
            "left": null,
            "margin": null,
            "max_height": null,
            "max_width": null,
            "min_height": null,
            "min_width": null,
            "object_fit": null,
            "object_position": null,
            "order": null,
            "overflow": null,
            "overflow_x": null,
            "overflow_y": null,
            "padding": null,
            "right": null,
            "top": null,
            "visibility": null,
            "width": null
          }
        },
        "d156f539e8fc42bf8c1a055124524a42": {
          "model_module": "@jupyter-widgets/controls",
          "model_module_version": "1.5.0",
          "model_name": "ProgressStyleModel",
          "state": {
            "_model_module": "@jupyter-widgets/controls",
            "_model_module_version": "1.5.0",
            "_model_name": "ProgressStyleModel",
            "_view_count": null,
            "_view_module": "@jupyter-widgets/base",
            "_view_module_version": "1.2.0",
            "_view_name": "StyleView",
            "bar_color": null,
            "description_width": ""
          }
        },
        "d15b97776f504a138a0e5bb015120ec2": {
          "model_module": "@jupyter-widgets/base",
          "model_module_version": "1.2.0",
          "model_name": "LayoutModel",
          "state": {
            "_model_module": "@jupyter-widgets/base",
            "_model_module_version": "1.2.0",
            "_model_name": "LayoutModel",
            "_view_count": null,
            "_view_module": "@jupyter-widgets/base",
            "_view_module_version": "1.2.0",
            "_view_name": "LayoutView",
            "align_content": null,
            "align_items": null,
            "align_self": null,
            "border": null,
            "bottom": null,
            "display": null,
            "flex": null,
            "flex_flow": null,
            "grid_area": null,
            "grid_auto_columns": null,
            "grid_auto_flow": null,
            "grid_auto_rows": null,
            "grid_column": null,
            "grid_gap": null,
            "grid_row": null,
            "grid_template_areas": null,
            "grid_template_columns": null,
            "grid_template_rows": null,
            "height": null,
            "justify_content": null,
            "justify_items": null,
            "left": null,
            "margin": null,
            "max_height": null,
            "max_width": null,
            "min_height": null,
            "min_width": null,
            "object_fit": null,
            "object_position": null,
            "order": null,
            "overflow": null,
            "overflow_x": null,
            "overflow_y": null,
            "padding": null,
            "right": null,
            "top": null,
            "visibility": null,
            "width": null
          }
        },
        "d450cb9505614a13b3d511b5667eb36d": {
          "model_module": "@jupyter-widgets/controls",
          "model_module_version": "1.5.0",
          "model_name": "FloatProgressModel",
          "state": {
            "_dom_classes": [],
            "_model_module": "@jupyter-widgets/controls",
            "_model_module_version": "1.5.0",
            "_model_name": "FloatProgressModel",
            "_view_count": null,
            "_view_module": "@jupyter-widgets/controls",
            "_view_module_version": "1.5.0",
            "_view_name": "ProgressView",
            "bar_style": "success",
            "description": "",
            "description_tooltip": null,
            "layout": "IPY_MODEL_158c7fc105a041dfb37b348abe7602ef",
            "max": 1625222120,
            "min": 0,
            "orientation": "horizontal",
            "style": "IPY_MODEL_1c7f8d1555df4a6da5bbdf9767514544",
            "value": 1625222120
          }
        },
        "d4b18a0aac164c8399b284d9e1d9f3e9": {
          "model_module": "@jupyter-widgets/base",
          "model_module_version": "1.2.0",
          "model_name": "LayoutModel",
          "state": {
            "_model_module": "@jupyter-widgets/base",
            "_model_module_version": "1.2.0",
            "_model_name": "LayoutModel",
            "_view_count": null,
            "_view_module": "@jupyter-widgets/base",
            "_view_module_version": "1.2.0",
            "_view_name": "LayoutView",
            "align_content": null,
            "align_items": null,
            "align_self": null,
            "border": null,
            "bottom": null,
            "display": null,
            "flex": null,
            "flex_flow": null,
            "grid_area": null,
            "grid_auto_columns": null,
            "grid_auto_flow": null,
            "grid_auto_rows": null,
            "grid_column": null,
            "grid_gap": null,
            "grid_row": null,
            "grid_template_areas": null,
            "grid_template_columns": null,
            "grid_template_rows": null,
            "height": null,
            "justify_content": null,
            "justify_items": null,
            "left": null,
            "margin": null,
            "max_height": null,
            "max_width": null,
            "min_height": null,
            "min_width": null,
            "object_fit": null,
            "object_position": null,
            "order": null,
            "overflow": null,
            "overflow_x": null,
            "overflow_y": null,
            "padding": null,
            "right": null,
            "top": null,
            "visibility": null,
            "width": null
          }
        },
        "d639a64ff8834caeba6df880be1fa96d": {
          "model_module": "@jupyter-widgets/base",
          "model_module_version": "1.2.0",
          "model_name": "LayoutModel",
          "state": {
            "_model_module": "@jupyter-widgets/base",
            "_model_module_version": "1.2.0",
            "_model_name": "LayoutModel",
            "_view_count": null,
            "_view_module": "@jupyter-widgets/base",
            "_view_module_version": "1.2.0",
            "_view_name": "LayoutView",
            "align_content": null,
            "align_items": null,
            "align_self": null,
            "border": null,
            "bottom": null,
            "display": null,
            "flex": null,
            "flex_flow": null,
            "grid_area": null,
            "grid_auto_columns": null,
            "grid_auto_flow": null,
            "grid_auto_rows": null,
            "grid_column": null,
            "grid_gap": null,
            "grid_row": null,
            "grid_template_areas": null,
            "grid_template_columns": null,
            "grid_template_rows": null,
            "height": null,
            "justify_content": null,
            "justify_items": null,
            "left": null,
            "margin": null,
            "max_height": null,
            "max_width": null,
            "min_height": null,
            "min_width": null,
            "object_fit": null,
            "object_position": null,
            "order": null,
            "overflow": null,
            "overflow_x": null,
            "overflow_y": null,
            "padding": null,
            "right": null,
            "top": null,
            "visibility": null,
            "width": null
          }
        },
        "d76a2d89405740cfb95b1e6f05328c27": {
          "model_module": "@jupyter-widgets/controls",
          "model_module_version": "1.5.0",
          "model_name": "HTMLModel",
          "state": {
            "_dom_classes": [],
            "_model_module": "@jupyter-widgets/controls",
            "_model_module_version": "1.5.0",
            "_model_name": "HTMLModel",
            "_view_count": null,
            "_view_module": "@jupyter-widgets/controls",
            "_view_module_version": "1.5.0",
            "_view_name": "HTMLView",
            "description": "",
            "description_tooltip": null,
            "layout": "IPY_MODEL_dcc78874ff4447abbc570cdacecc72ab",
            "placeholder": "​",
            "style": "IPY_MODEL_edda5cf752f144a8bec8f0aa66be62d0",
            "value": " 363/363 [00:00&lt;00:00, 21.3kB/s]"
          }
        },
        "d830261edca04ee299906e050f013412": {
          "model_module": "@jupyter-widgets/controls",
          "model_module_version": "1.5.0",
          "model_name": "HBoxModel",
          "state": {
            "_dom_classes": [],
            "_model_module": "@jupyter-widgets/controls",
            "_model_module_version": "1.5.0",
            "_model_name": "HBoxModel",
            "_view_count": null,
            "_view_module": "@jupyter-widgets/controls",
            "_view_module_version": "1.5.0",
            "_view_name": "HBoxView",
            "box_style": "",
            "children": [
              "IPY_MODEL_76e70e11c56d4b448ec66f9ffbf72545",
              "IPY_MODEL_d450cb9505614a13b3d511b5667eb36d",
              "IPY_MODEL_665ec13b47754e9e9bc1a3ea578695d1"
            ],
            "layout": "IPY_MODEL_6c41b7d0a3504abe969ce37cac890a78"
          }
        },
        "d964a8fb1e9d49969fa67dde29f26eb5": {
          "model_module": "@jupyter-widgets/controls",
          "model_module_version": "1.5.0",
          "model_name": "ProgressStyleModel",
          "state": {
            "_model_module": "@jupyter-widgets/controls",
            "_model_module_version": "1.5.0",
            "_model_name": "ProgressStyleModel",
            "_view_count": null,
            "_view_module": "@jupyter-widgets/base",
            "_view_module_version": "1.2.0",
            "_view_name": "StyleView",
            "bar_color": null,
            "description_width": ""
          }
        },
        "dc99f6c015a54504aa9e303bdaf73000": {
          "model_module": "@jupyter-widgets/base",
          "model_module_version": "1.2.0",
          "model_name": "LayoutModel",
          "state": {
            "_model_module": "@jupyter-widgets/base",
            "_model_module_version": "1.2.0",
            "_model_name": "LayoutModel",
            "_view_count": null,
            "_view_module": "@jupyter-widgets/base",
            "_view_module_version": "1.2.0",
            "_view_name": "LayoutView",
            "align_content": null,
            "align_items": null,
            "align_self": null,
            "border": null,
            "bottom": null,
            "display": null,
            "flex": null,
            "flex_flow": null,
            "grid_area": null,
            "grid_auto_columns": null,
            "grid_auto_flow": null,
            "grid_auto_rows": null,
            "grid_column": null,
            "grid_gap": null,
            "grid_row": null,
            "grid_template_areas": null,
            "grid_template_columns": null,
            "grid_template_rows": null,
            "height": null,
            "justify_content": null,
            "justify_items": null,
            "left": null,
            "margin": null,
            "max_height": null,
            "max_width": null,
            "min_height": null,
            "min_width": null,
            "object_fit": null,
            "object_position": null,
            "order": null,
            "overflow": null,
            "overflow_x": null,
            "overflow_y": null,
            "padding": null,
            "right": null,
            "top": null,
            "visibility": null,
            "width": null
          }
        },
        "dcc78874ff4447abbc570cdacecc72ab": {
          "model_module": "@jupyter-widgets/base",
          "model_module_version": "1.2.0",
          "model_name": "LayoutModel",
          "state": {
            "_model_module": "@jupyter-widgets/base",
            "_model_module_version": "1.2.0",
            "_model_name": "LayoutModel",
            "_view_count": null,
            "_view_module": "@jupyter-widgets/base",
            "_view_module_version": "1.2.0",
            "_view_name": "LayoutView",
            "align_content": null,
            "align_items": null,
            "align_self": null,
            "border": null,
            "bottom": null,
            "display": null,
            "flex": null,
            "flex_flow": null,
            "grid_area": null,
            "grid_auto_columns": null,
            "grid_auto_flow": null,
            "grid_auto_rows": null,
            "grid_column": null,
            "grid_gap": null,
            "grid_row": null,
            "grid_template_areas": null,
            "grid_template_columns": null,
            "grid_template_rows": null,
            "height": null,
            "justify_content": null,
            "justify_items": null,
            "left": null,
            "margin": null,
            "max_height": null,
            "max_width": null,
            "min_height": null,
            "min_width": null,
            "object_fit": null,
            "object_position": null,
            "order": null,
            "overflow": null,
            "overflow_x": null,
            "overflow_y": null,
            "padding": null,
            "right": null,
            "top": null,
            "visibility": null,
            "width": null
          }
        },
        "dda48b54d33f44a7a81b38ef44068ba6": {
          "model_module": "@jupyter-widgets/base",
          "model_module_version": "1.2.0",
          "model_name": "LayoutModel",
          "state": {
            "_model_module": "@jupyter-widgets/base",
            "_model_module_version": "1.2.0",
            "_model_name": "LayoutModel",
            "_view_count": null,
            "_view_module": "@jupyter-widgets/base",
            "_view_module_version": "1.2.0",
            "_view_name": "LayoutView",
            "align_content": null,
            "align_items": null,
            "align_self": null,
            "border": null,
            "bottom": null,
            "display": null,
            "flex": null,
            "flex_flow": null,
            "grid_area": null,
            "grid_auto_columns": null,
            "grid_auto_flow": null,
            "grid_auto_rows": null,
            "grid_column": null,
            "grid_gap": null,
            "grid_row": null,
            "grid_template_areas": null,
            "grid_template_columns": null,
            "grid_template_rows": null,
            "height": null,
            "justify_content": null,
            "justify_items": null,
            "left": null,
            "margin": null,
            "max_height": null,
            "max_width": null,
            "min_height": null,
            "min_width": null,
            "object_fit": null,
            "object_position": null,
            "order": null,
            "overflow": null,
            "overflow_x": null,
            "overflow_y": null,
            "padding": null,
            "right": null,
            "top": null,
            "visibility": null,
            "width": null
          }
        },
        "ddf90d1840d046d3a076b81c0fdddcbc": {
          "model_module": "@jupyter-widgets/base",
          "model_module_version": "1.2.0",
          "model_name": "LayoutModel",
          "state": {
            "_model_module": "@jupyter-widgets/base",
            "_model_module_version": "1.2.0",
            "_model_name": "LayoutModel",
            "_view_count": null,
            "_view_module": "@jupyter-widgets/base",
            "_view_module_version": "1.2.0",
            "_view_name": "LayoutView",
            "align_content": null,
            "align_items": null,
            "align_self": null,
            "border": null,
            "bottom": null,
            "display": null,
            "flex": null,
            "flex_flow": null,
            "grid_area": null,
            "grid_auto_columns": null,
            "grid_auto_flow": null,
            "grid_auto_rows": null,
            "grid_column": null,
            "grid_gap": null,
            "grid_row": null,
            "grid_template_areas": null,
            "grid_template_columns": null,
            "grid_template_rows": null,
            "height": null,
            "justify_content": null,
            "justify_items": null,
            "left": null,
            "margin": null,
            "max_height": null,
            "max_width": null,
            "min_height": null,
            "min_width": null,
            "object_fit": null,
            "object_position": null,
            "order": null,
            "overflow": null,
            "overflow_x": null,
            "overflow_y": null,
            "padding": null,
            "right": null,
            "top": null,
            "visibility": null,
            "width": null
          }
        },
        "e22cfefdc1a74a01a7ec780c90def508": {
          "model_module": "@jupyter-widgets/controls",
          "model_module_version": "1.5.0",
          "model_name": "HTMLModel",
          "state": {
            "_dom_classes": [],
            "_model_module": "@jupyter-widgets/controls",
            "_model_module_version": "1.5.0",
            "_model_name": "HTMLModel",
            "_view_count": null,
            "_view_module": "@jupyter-widgets/controls",
            "_view_module_version": "1.5.0",
            "_view_name": "HTMLView",
            "description": "",
            "description_tooltip": null,
            "layout": "IPY_MODEL_c9f919b79c344061842a69f8820cf08a",
            "placeholder": "​",
            "style": "IPY_MODEL_a61f0797aa62456d8a01818a2437ffbe",
            "value": "generation_config.json: 100%"
          }
        },
        "e45405e3e42746eab1aed5c2eef54c10": {
          "model_module": "@jupyter-widgets/controls",
          "model_module_version": "1.5.0",
          "model_name": "DescriptionStyleModel",
          "state": {
            "_model_module": "@jupyter-widgets/controls",
            "_model_module_version": "1.5.0",
            "_model_name": "DescriptionStyleModel",
            "_view_count": null,
            "_view_module": "@jupyter-widgets/base",
            "_view_module_version": "1.2.0",
            "_view_name": "StyleView",
            "description_width": ""
          }
        },
        "e8c4eca5ec3e4a8e97d0b3094b2e566c": {
          "model_module": "@jupyter-widgets/controls",
          "model_module_version": "1.5.0",
          "model_name": "DescriptionStyleModel",
          "state": {
            "_model_module": "@jupyter-widgets/controls",
            "_model_module_version": "1.5.0",
            "_model_name": "DescriptionStyleModel",
            "_view_count": null,
            "_view_module": "@jupyter-widgets/base",
            "_view_module_version": "1.2.0",
            "_view_name": "StyleView",
            "description_width": ""
          }
        },
        "e999efff5d5a41829112801391f66607": {
          "model_module": "@jupyter-widgets/controls",
          "model_module_version": "1.5.0",
          "model_name": "DescriptionStyleModel",
          "state": {
            "_model_module": "@jupyter-widgets/controls",
            "_model_module_version": "1.5.0",
            "_model_name": "DescriptionStyleModel",
            "_view_count": null,
            "_view_module": "@jupyter-widgets/base",
            "_view_module_version": "1.2.0",
            "_view_name": "StyleView",
            "description_width": ""
          }
        },
        "edda5cf752f144a8bec8f0aa66be62d0": {
          "model_module": "@jupyter-widgets/controls",
          "model_module_version": "1.5.0",
          "model_name": "DescriptionStyleModel",
          "state": {
            "_model_module": "@jupyter-widgets/controls",
            "_model_module_version": "1.5.0",
            "_model_name": "DescriptionStyleModel",
            "_view_count": null,
            "_view_module": "@jupyter-widgets/base",
            "_view_module_version": "1.2.0",
            "_view_name": "StyleView",
            "description_width": ""
          }
        },
        "f117e843a2354265a2cd29e3985fa5fd": {
          "model_module": "@jupyter-widgets/controls",
          "model_module_version": "1.5.0",
          "model_name": "HBoxModel",
          "state": {
            "_dom_classes": [],
            "_model_module": "@jupyter-widgets/controls",
            "_model_module_version": "1.5.0",
            "_model_name": "HBoxModel",
            "_view_count": null,
            "_view_module": "@jupyter-widgets/controls",
            "_view_module_version": "1.5.0",
            "_view_name": "HBoxView",
            "box_style": "",
            "children": [
              "IPY_MODEL_3c8f230cb1e54593b63e9e289f57bbfe",
              "IPY_MODEL_fcdb848b2ba843b2b4403906322c134b",
              "IPY_MODEL_4d90133d08bd46598013a02b198070ce"
            ],
            "layout": "IPY_MODEL_631a00ee581a44b5bb0a5989e78974fd"
          }
        },
        "f2400ff0a2ac491393ae76b71d7eaba4": {
          "model_module": "@jupyter-widgets/base",
          "model_module_version": "1.2.0",
          "model_name": "LayoutModel",
          "state": {
            "_model_module": "@jupyter-widgets/base",
            "_model_module_version": "1.2.0",
            "_model_name": "LayoutModel",
            "_view_count": null,
            "_view_module": "@jupyter-widgets/base",
            "_view_module_version": "1.2.0",
            "_view_name": "LayoutView",
            "align_content": null,
            "align_items": null,
            "align_self": null,
            "border": null,
            "bottom": null,
            "display": null,
            "flex": null,
            "flex_flow": null,
            "grid_area": null,
            "grid_auto_columns": null,
            "grid_auto_flow": null,
            "grid_auto_rows": null,
            "grid_column": null,
            "grid_gap": null,
            "grid_row": null,
            "grid_template_areas": null,
            "grid_template_columns": null,
            "grid_template_rows": null,
            "height": null,
            "justify_content": null,
            "justify_items": null,
            "left": null,
            "margin": null,
            "max_height": null,
            "max_width": null,
            "min_height": null,
            "min_width": null,
            "object_fit": null,
            "object_position": null,
            "order": null,
            "overflow": null,
            "overflow_x": null,
            "overflow_y": null,
            "padding": null,
            "right": null,
            "top": null,
            "visibility": null,
            "width": null
          }
        },
        "f910b47f7dd84810b5e93d210330896a": {
          "model_module": "@jupyter-widgets/controls",
          "model_module_version": "1.5.0",
          "model_name": "HTMLModel",
          "state": {
            "_dom_classes": [],
            "_model_module": "@jupyter-widgets/controls",
            "_model_module_version": "1.5.0",
            "_model_name": "HTMLModel",
            "_view_count": null,
            "_view_module": "@jupyter-widgets/controls",
            "_view_module_version": "1.5.0",
            "_view_name": "HTMLView",
            "description": "",
            "description_tooltip": null,
            "layout": "IPY_MODEL_dc99f6c015a54504aa9e303bdaf73000",
            "placeholder": "​",
            "style": "IPY_MODEL_68454bc5db0d417d9c2678a6cbe54406",
            "value": " 1.58k/1.58k [00:00&lt;00:00, 98.4kB/s]"
          }
        },
        "fa4d44fd3d914ff29232ffc84ea178f9": {
          "model_module": "@jupyter-widgets/controls",
          "model_module_version": "1.5.0",
          "model_name": "DescriptionStyleModel",
          "state": {
            "_model_module": "@jupyter-widgets/controls",
            "_model_module_version": "1.5.0",
            "_model_name": "DescriptionStyleModel",
            "_view_count": null,
            "_view_module": "@jupyter-widgets/base",
            "_view_module_version": "1.2.0",
            "_view_name": "StyleView",
            "description_width": ""
          }
        },
        "fb6ef848602c4c3488308aa943cc4038": {
          "model_module": "@jupyter-widgets/base",
          "model_module_version": "1.2.0",
          "model_name": "LayoutModel",
          "state": {
            "_model_module": "@jupyter-widgets/base",
            "_model_module_version": "1.2.0",
            "_model_name": "LayoutModel",
            "_view_count": null,
            "_view_module": "@jupyter-widgets/base",
            "_view_module_version": "1.2.0",
            "_view_name": "LayoutView",
            "align_content": null,
            "align_items": null,
            "align_self": null,
            "border": null,
            "bottom": null,
            "display": null,
            "flex": null,
            "flex_flow": null,
            "grid_area": null,
            "grid_auto_columns": null,
            "grid_auto_flow": null,
            "grid_auto_rows": null,
            "grid_column": null,
            "grid_gap": null,
            "grid_row": null,
            "grid_template_areas": null,
            "grid_template_columns": null,
            "grid_template_rows": null,
            "height": null,
            "justify_content": null,
            "justify_items": null,
            "left": null,
            "margin": null,
            "max_height": null,
            "max_width": null,
            "min_height": null,
            "min_width": null,
            "object_fit": null,
            "object_position": null,
            "order": null,
            "overflow": null,
            "overflow_x": null,
            "overflow_y": null,
            "padding": null,
            "right": null,
            "top": null,
            "visibility": null,
            "width": null
          }
        },
        "fc6bde7c00824093bce658541c68a0ce": {
          "model_module": "@jupyter-widgets/base",
          "model_module_version": "1.2.0",
          "model_name": "LayoutModel",
          "state": {
            "_model_module": "@jupyter-widgets/base",
            "_model_module_version": "1.2.0",
            "_model_name": "LayoutModel",
            "_view_count": null,
            "_view_module": "@jupyter-widgets/base",
            "_view_module_version": "1.2.0",
            "_view_name": "LayoutView",
            "align_content": null,
            "align_items": null,
            "align_self": null,
            "border": null,
            "bottom": null,
            "display": null,
            "flex": null,
            "flex_flow": null,
            "grid_area": null,
            "grid_auto_columns": null,
            "grid_auto_flow": null,
            "grid_auto_rows": null,
            "grid_column": null,
            "grid_gap": null,
            "grid_row": null,
            "grid_template_areas": null,
            "grid_template_columns": null,
            "grid_template_rows": null,
            "height": null,
            "justify_content": null,
            "justify_items": null,
            "left": null,
            "margin": null,
            "max_height": null,
            "max_width": null,
            "min_height": null,
            "min_width": null,
            "object_fit": null,
            "object_position": null,
            "order": null,
            "overflow": null,
            "overflow_x": null,
            "overflow_y": null,
            "padding": null,
            "right": null,
            "top": null,
            "visibility": null,
            "width": null
          }
        },
        "fcdb848b2ba843b2b4403906322c134b": {
          "model_module": "@jupyter-widgets/controls",
          "model_module_version": "1.5.0",
          "model_name": "FloatProgressModel",
          "state": {
            "_dom_classes": [],
            "_model_module": "@jupyter-widgets/controls",
            "_model_module_version": "1.5.0",
            "_model_name": "FloatProgressModel",
            "_view_count": null,
            "_view_module": "@jupyter-widgets/controls",
            "_view_module_version": "1.5.0",
            "_view_name": "ProgressView",
            "bar_style": "success",
            "description": "",
            "description_tooltip": null,
            "layout": "IPY_MODEL_325a763d573e40cfb68474f4924ce7b0",
            "max": 898823,
            "min": 0,
            "orientation": "horizontal",
            "style": "IPY_MODEL_30e7062bba484113b72e5c9e7cfe40bf",
            "value": 898823
          }
        }
      }
    }
  },
  "nbformat": 4,
  "nbformat_minor": 0
}